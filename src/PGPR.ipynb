{
 "cells": [
  {
   "cell_type": "code",
   "execution_count": 1,
   "id": "f2414f57-aafc-4e65-b6e8-a1df8f663b19",
   "metadata": {
    "ExecuteTime": {
     "end_time": "2023-07-13T20:16:19.615908Z",
     "start_time": "2023-07-13T20:16:19.391401Z"
    }
   },
   "outputs": [],
   "source": [
    "from mapper import write_time_based_train_test_split\n",
    "from mapper import map_to_PGPR"
   ]
  },
  {
   "cell_type": "code",
   "execution_count": 2,
   "outputs": [],
   "source": [
    "dataset_name = 'lfm'"
   ],
   "metadata": {
    "collapsed": false,
    "ExecuteTime": {
     "end_time": "2023-07-13T20:07:19.130616Z",
     "start_time": "2023-07-13T20:07:19.126216Z"
    }
   }
  },
  {
   "cell_type": "code",
   "execution_count": 3,
   "outputs": [],
   "source": [
    "write_time_based_train_test_split(dataset_name, \"pgpr\", 0.8)"
   ],
   "metadata": {
    "collapsed": false,
    "ExecuteTime": {
     "end_time": "2023-07-13T20:07:44.892628Z",
     "start_time": "2023-07-13T20:07:19.131665Z"
    }
   }
  },
  {
   "cell_type": "code",
   "execution_count": 4,
   "outputs": [],
   "source": [
    "map_to_PGPR('lfm')"
   ],
   "metadata": {
    "collapsed": false,
    "ExecuteTime": {
     "end_time": "2023-07-13T20:07:48.924309Z",
     "start_time": "2023-07-13T20:07:44.892935Z"
    }
   }
  },
  {
   "cell_type": "code",
   "execution_count": 1,
   "outputs": [
    {
     "name": "stdout",
     "output_type": "stream",
     "text": [
      "/Users/jonasfallmann/userdata/University/Bachelor Thesis/bachelor-thesis/src/models/PGPR\n"
     ]
    }
   ],
   "source": [
    "%cd models/PGPR\n"
   ],
   "metadata": {
    "collapsed": false,
    "ExecuteTime": {
     "end_time": "2023-07-13T21:18:05.391213Z",
     "start_time": "2023-07-13T21:18:05.386615Z"
    }
   }
  },
  {
   "cell_type": "code",
   "execution_count": 2,
   "outputs": [
    {
     "name": "stdout",
     "output_type": "stream",
     "text": [
      "/Users/jonasfallmann/userdata/University/Bachelor Thesis/bachelor-thesis/src/models/PGPR\n",
      "Load lfm dataset from file...\n",
      "Load user of size 9455\n",
      "Load product of size 173788\n",
      "Load artist of size 14987\n",
      "Load album of size 45978\n",
      "Load genre of size 749\n",
      "Load micro_genre of size 1921\n",
      "Load in_album of size 111577\n",
      "Load has_micro_genre of size 667023\n",
      "Load created_by of size 111577\n",
      "Load has_genre of size 111577\n",
      "0 0\n",
      "Load review of size 3941518 with positive reviews= 0  and negative reviews= 3941518\n",
      "Create lfm knowledge graph from dataset...\n",
      "Load entities...\n",
      "Total 246884 nodes.\n",
      "Load reviews...\n",
      "Total 7883036 review edges.\n",
      "Load knowledge created_by...\n",
      "Total 223154 created_by edges.\n",
      "Load knowledge has_micro_genre...\n",
      "Total 1334046 has_micro_genre edges.\n",
      "Load knowledge has_genre...\n",
      "Total 223154 has_genre edges.\n",
      "Load knowledge in_album...\n",
      "Total 223154 in_album edges.\n",
      "Remove duplicates...\n",
      "Compute node degrees...\n",
      "Generate lfm train/test labels.\n"
     ]
    }
   ],
   "source": [
    "%run preprocess.py --dataset lfm"
   ],
   "metadata": {
    "collapsed": false,
    "ExecuteTime": {
     "end_time": "2023-07-13T20:16:32.832709Z",
     "start_time": "2023-07-13T20:16:19.631504Z"
    }
   }
  },
  {
   "cell_type": "code",
   "execution_count": 2,
   "outputs": [
    {
     "name": "stdout",
     "output_type": "stream",
     "text": [
      "../../data/lfm/preprocessed/pgpr/tmp\n",
      "[INFO]  Namespace(dataset='lfm', name='train_transe_model', seed=123, gpu='0', epochs=30, batch_size=64, lr=0.5, weight_decay=0, l2_lambda=0, max_grad_norm=5.0, embed_size=100, num_neg_samples=5, steps_per_checkpoint=200, device='cpu', log_dir='../../data/lfm/preprocessed/pgpr/tmp/train_transe_model')\n",
      "[INFO]  Parameters:['listened_to', 'created_by', 'in_album', 'has_genre', 'has_micro_genre', 'user.weight', 'product.weight', 'artist.weight', 'micro_genre.weight', 'album.weight', 'genre.weight', 'listened_to_bias.weight', 'created_by_bias.weight', 'in_album_bias.weight', 'has_genre_bias.weight', 'has_micro_genre_bias.weight']\n",
      "[INFO]  Epoch: 01 | Review: 12800/118245541 | Lr: 0.49995 | Smooth loss: 18.95086\n",
      "[INFO]  Epoch: 01 | Review: 25600/118245541 | Lr: 0.49989 | Smooth loss: 18.01774\n",
      "[INFO]  Epoch: 01 | Review: 38400/118245541 | Lr: 0.49984 | Smooth loss: 17.68248\n",
      "[INFO]  Epoch: 01 | Review: 51200/118245541 | Lr: 0.49978 | Smooth loss: 17.42327\n",
      "[INFO]  Epoch: 01 | Review: 64000/118245541 | Lr: 0.49973 | Smooth loss: 17.18953\n",
      "[INFO]  Epoch: 01 | Review: 76800/118245541 | Lr: 0.49968 | Smooth loss: 17.07029\n",
      "[INFO]  Epoch: 01 | Review: 89600/118245541 | Lr: 0.49962 | Smooth loss: 16.91111\n",
      "[INFO]  Epoch: 01 | Review: 102400/118245541 | Lr: 0.49957 | Smooth loss: 16.79585\n",
      "[INFO]  Epoch: 01 | Review: 115200/118245541 | Lr: 0.49951 | Smooth loss: 16.69623\n",
      "[INFO]  Epoch: 01 | Review: 128000/118245541 | Lr: 0.49946 | Smooth loss: 16.61192\n",
      "[INFO]  Epoch: 01 | Review: 140800/118245541 | Lr: 0.49940 | Smooth loss: 16.52735\n",
      "[INFO]  Epoch: 01 | Review: 153600/118245541 | Lr: 0.49935 | Smooth loss: 16.36710\n",
      "[INFO]  Epoch: 01 | Review: 166400/118245541 | Lr: 0.49930 | Smooth loss: 16.30448\n",
      "[INFO]  Epoch: 01 | Review: 179200/118245541 | Lr: 0.49924 | Smooth loss: 16.29779\n",
      "[INFO]  Epoch: 01 | Review: 192000/118245541 | Lr: 0.49919 | Smooth loss: 16.14721\n",
      "[INFO]  Epoch: 01 | Review: 204800/118245541 | Lr: 0.49913 | Smooth loss: 16.11863\n",
      "[INFO]  Epoch: 01 | Review: 217600/118245541 | Lr: 0.49908 | Smooth loss: 15.99220\n",
      "[INFO]  Epoch: 01 | Review: 230400/118245541 | Lr: 0.49903 | Smooth loss: 15.98032\n",
      "[INFO]  Epoch: 01 | Review: 243200/118245541 | Lr: 0.49897 | Smooth loss: 16.03295\n",
      "[INFO]  Epoch: 01 | Review: 256000/118245541 | Lr: 0.49892 | Smooth loss: 15.93175\n",
      "[INFO]  Epoch: 01 | Review: 268800/118245541 | Lr: 0.49886 | Smooth loss: 15.90904\n",
      "[INFO]  Epoch: 01 | Review: 281600/118245541 | Lr: 0.49881 | Smooth loss: 15.85312\n",
      "[INFO]  Epoch: 01 | Review: 294400/118245541 | Lr: 0.49876 | Smooth loss: 15.82938\n",
      "[INFO]  Epoch: 01 | Review: 307200/118245541 | Lr: 0.49870 | Smooth loss: 15.75331\n"
     ]
    },
    {
     "ename": "KeyboardInterrupt",
     "evalue": "",
     "output_type": "error",
     "traceback": [
      "\u001B[0;31m---------------------------------------------------------------------------\u001B[0m",
      "\u001B[0;31mKeyboardInterrupt\u001B[0m                         Traceback (most recent call last)",
      "File \u001B[0;32m~/userdata/University/Bachelor Thesis/bachelor-thesis/src/models/PGPR/train_transe_model.py:138\u001B[0m\n\u001B[1;32m    134\u001B[0m     extract_embeddings(args)\n\u001B[1;32m    137\u001B[0m \u001B[38;5;28;01mif\u001B[39;00m \u001B[38;5;18m__name__\u001B[39m \u001B[38;5;241m==\u001B[39m \u001B[38;5;124m'\u001B[39m\u001B[38;5;124m__main__\u001B[39m\u001B[38;5;124m'\u001B[39m:\n\u001B[0;32m--> 138\u001B[0m     \u001B[43mmain\u001B[49m\u001B[43m(\u001B[49m\u001B[43m)\u001B[49m\n",
      "File \u001B[0;32m~/userdata/University/Bachelor Thesis/bachelor-thesis/src/models/PGPR/train_transe_model.py:133\u001B[0m, in \u001B[0;36mmain\u001B[0;34m()\u001B[0m\n\u001B[1;32m    130\u001B[0m logger\u001B[38;5;241m.\u001B[39minfo(args)\n\u001B[1;32m    132\u001B[0m set_random_seed(args\u001B[38;5;241m.\u001B[39mseed)\n\u001B[0;32m--> 133\u001B[0m \u001B[43mtrain\u001B[49m\u001B[43m(\u001B[49m\u001B[43margs\u001B[49m\u001B[43m)\u001B[49m\n\u001B[1;32m    134\u001B[0m extract_embeddings(args)\n",
      "File \u001B[0;32m~/userdata/University/Bachelor Thesis/bachelor-thesis/src/models/PGPR/train_transe_model.py:42\u001B[0m, in \u001B[0;36mtrain\u001B[0;34m(args)\u001B[0m\n\u001B[1;32m     40\u001B[0m train_loss \u001B[38;5;241m=\u001B[39m model(batch_idxs)\n\u001B[1;32m     41\u001B[0m train_loss\u001B[38;5;241m.\u001B[39mbackward()\n\u001B[0;32m---> 42\u001B[0m \u001B[43mtorch\u001B[49m\u001B[38;5;241;43m.\u001B[39;49m\u001B[43mnn\u001B[49m\u001B[38;5;241;43m.\u001B[39;49m\u001B[43mutils\u001B[49m\u001B[38;5;241;43m.\u001B[39;49m\u001B[43mclip_grad_norm_\u001B[49m\u001B[43m(\u001B[49m\u001B[43mmodel\u001B[49m\u001B[38;5;241;43m.\u001B[39;49m\u001B[43mparameters\u001B[49m\u001B[43m(\u001B[49m\u001B[43m)\u001B[49m\u001B[43m,\u001B[49m\u001B[43m \u001B[49m\u001B[43margs\u001B[49m\u001B[38;5;241;43m.\u001B[39;49m\u001B[43mmax_grad_norm\u001B[49m\u001B[43m)\u001B[49m\n\u001B[1;32m     43\u001B[0m optimizer\u001B[38;5;241m.\u001B[39mstep()\n\u001B[1;32m     44\u001B[0m smooth_loss \u001B[38;5;241m+\u001B[39m\u001B[38;5;241m=\u001B[39m train_loss\u001B[38;5;241m.\u001B[39mitem() \u001B[38;5;241m/\u001B[39m args\u001B[38;5;241m.\u001B[39msteps_per_checkpoint\n",
      "File \u001B[0;32m~/miniconda3/envs/bsc/lib/python3.11/site-packages/torch/nn/utils/clip_grad.py:76\u001B[0m, in \u001B[0;36mclip_grad_norm_\u001B[0;34m(parameters, max_norm, norm_type, error_if_nonfinite, foreach)\u001B[0m\n\u001B[1;32m     74\u001B[0m \u001B[38;5;28;01mfor\u001B[39;00m ((device, _), [grads]) \u001B[38;5;129;01min\u001B[39;00m grouped_grads\u001B[38;5;241m.\u001B[39mitems():\n\u001B[1;32m     75\u001B[0m     \u001B[38;5;28;01mif\u001B[39;00m (foreach \u001B[38;5;129;01mis\u001B[39;00m \u001B[38;5;28;01mNone\u001B[39;00m \u001B[38;5;129;01mor\u001B[39;00m foreach) \u001B[38;5;129;01mand\u001B[39;00m _has_foreach_support(grads, device\u001B[38;5;241m=\u001B[39mdevice):\n\u001B[0;32m---> 76\u001B[0m         \u001B[43mtorch\u001B[49m\u001B[38;5;241;43m.\u001B[39;49m\u001B[43m_foreach_mul_\u001B[49m\u001B[43m(\u001B[49m\u001B[43mgrads\u001B[49m\u001B[43m,\u001B[49m\u001B[43m \u001B[49m\u001B[43mclip_coef_clamped\u001B[49m\u001B[38;5;241;43m.\u001B[39;49m\u001B[43mto\u001B[49m\u001B[43m(\u001B[49m\u001B[43mdevice\u001B[49m\u001B[43m)\u001B[49m\u001B[43m)\u001B[49m  \u001B[38;5;66;03m# type: ignore[call-overload]\u001B[39;00m\n\u001B[1;32m     77\u001B[0m     \u001B[38;5;28;01melif\u001B[39;00m foreach:\n\u001B[1;32m     78\u001B[0m         \u001B[38;5;28;01mraise\u001B[39;00m \u001B[38;5;167;01mRuntimeError\u001B[39;00m(\u001B[38;5;124mf\u001B[39m\u001B[38;5;124m'\u001B[39m\u001B[38;5;124mforeach=True was passed, but can\u001B[39m\u001B[38;5;130;01m\\'\u001B[39;00m\u001B[38;5;124mt use the foreach API on \u001B[39m\u001B[38;5;132;01m{\u001B[39;00mdevice\u001B[38;5;241m.\u001B[39mtype\u001B[38;5;132;01m}\u001B[39;00m\u001B[38;5;124m tensors\u001B[39m\u001B[38;5;124m'\u001B[39m)\n",
      "\u001B[0;31mKeyboardInterrupt\u001B[0m: "
     ]
    }
   ],
   "source": [
    "%run train_transe_model --dataset lfm"
   ],
   "metadata": {
    "collapsed": false,
    "ExecuteTime": {
     "end_time": "2023-07-13T21:21:03.155085Z",
     "start_time": "2023-07-13T21:18:05.392850Z"
    }
   }
  }
 ],
 "metadata": {
  "kernelspec": {
   "display_name": "Python 3 (ipykernel)",
   "language": "python",
   "name": "python3"
  },
  "language_info": {
   "codemirror_mode": {
    "name": "ipython",
    "version": 3
   },
   "file_extension": ".py",
   "mimetype": "text/x-python",
   "name": "python",
   "nbconvert_exporter": "python",
   "pygments_lexer": "ipython3",
   "version": "3.11.4"
  }
 },
 "nbformat": 4,
 "nbformat_minor": 5
}
