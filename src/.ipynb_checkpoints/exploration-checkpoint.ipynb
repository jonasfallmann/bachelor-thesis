{
 "cells": [
  {
   "cell_type": "markdown",
   "id": "89543e22-38c1-4e0c-a806-474f0ee2e96d",
   "metadata": {},
   "source": [
    "# Structure"
   ]
  },
  {
   "cell_type": "markdown",
   "id": "3072ab3c-5b70-4ac0-a6e5-e0d5a3ccafac",
   "metadata": {},
   "source": [
    "1. Create dataset\n",
    "2. "
   ]
  },
  {
   "cell_type": "markdown",
   "id": "35e66fc0-2098-4176-9401-a12251eccc94",
   "metadata": {},
   "source": [
    "## Dataset creation\n",
    "The dataset creation is heavily inspired by https://colab.research.google.com/drive/199vMjGDzH4UyfznKm-mZomnI645RaiLE?usp=sharing#3"
   ]
  },
  {
   "cell_type": "code",
   "execution_count": null,
   "id": "2b91ecb5-a9ea-4811-ab68-3111737455e1",
   "metadata": {},
   "outputs": [],
   "source": []
  }
 ],
 "metadata": {
  "kernelspec": {
   "display_name": "Python 3 (ipykernel)",
   "language": "python",
   "name": "python3"
  },
  "language_info": {
   "codemirror_mode": {
    "name": "ipython",
    "version": 3
   },
   "file_extension": ".py",
   "mimetype": "text/x-python",
   "name": "python",
   "nbconvert_exporter": "python",
   "pygments_lexer": "ipython3",
   "version": "3.11.3"
  }
 },
 "nbformat": 4,
 "nbformat_minor": 5
}
