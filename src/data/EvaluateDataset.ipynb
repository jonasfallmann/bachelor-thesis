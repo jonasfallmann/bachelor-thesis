{
 "cells": [
  {
   "cell_type": "code",
   "execution_count": 19,
   "metadata": {
    "collapsed": true,
    "ExecuteTime": {
     "end_time": "2023-07-19T07:30:13.606241692Z",
     "start_time": "2023-07-19T07:30:13.387591395Z"
    }
   },
   "outputs": [],
   "source": [
    "import pandas as pd\n",
    "import matplotlib.pyplot as plt"
   ]
  },
  {
   "cell_type": "code",
   "execution_count": 2,
   "outputs": [
    {
     "data": {
      "text/plain": "   user_id country  age gender        creation_time\n0        2      UK   35      m  2002-10-29 01:00:00\n1       14      UK   48      m  2003-02-18 21:44:13\n2       15      US   28      m  2003-02-24 03:30:33\n3       36      UK   29      m  2003-03-27 12:17:12\n4       42      RU   30      m  2003-04-10 01:07:48",
      "text/html": "<div>\n<style scoped>\n    .dataframe tbody tr th:only-of-type {\n        vertical-align: middle;\n    }\n\n    .dataframe tbody tr th {\n        vertical-align: top;\n    }\n\n    .dataframe thead th {\n        text-align: right;\n    }\n</style>\n<table border=\"1\" class=\"dataframe\">\n  <thead>\n    <tr style=\"text-align: right;\">\n      <th></th>\n      <th>user_id</th>\n      <th>country</th>\n      <th>age</th>\n      <th>gender</th>\n      <th>creation_time</th>\n    </tr>\n  </thead>\n  <tbody>\n    <tr>\n      <th>0</th>\n      <td>2</td>\n      <td>UK</td>\n      <td>35</td>\n      <td>m</td>\n      <td>2002-10-29 01:00:00</td>\n    </tr>\n    <tr>\n      <th>1</th>\n      <td>14</td>\n      <td>UK</td>\n      <td>48</td>\n      <td>m</td>\n      <td>2003-02-18 21:44:13</td>\n    </tr>\n    <tr>\n      <th>2</th>\n      <td>15</td>\n      <td>US</td>\n      <td>28</td>\n      <td>m</td>\n      <td>2003-02-24 03:30:33</td>\n    </tr>\n    <tr>\n      <th>3</th>\n      <td>36</td>\n      <td>UK</td>\n      <td>29</td>\n      <td>m</td>\n      <td>2003-03-27 12:17:12</td>\n    </tr>\n    <tr>\n      <th>4</th>\n      <td>42</td>\n      <td>RU</td>\n      <td>30</td>\n      <td>m</td>\n      <td>2003-04-10 01:07:48</td>\n    </tr>\n  </tbody>\n</table>\n</div>"
     },
     "execution_count": 2,
     "metadata": {},
     "output_type": "execute_result"
    }
   ],
   "source": [
    "users = pd.read_csv(\"lfm/cleaned/users.tsv\", sep='\\t')\n",
    "users.head()"
   ],
   "metadata": {
    "collapsed": false,
    "ExecuteTime": {
     "end_time": "2023-07-19T07:18:31.387388714Z",
     "start_time": "2023-07-19T07:18:31.356963676Z"
    }
   }
  },
  {
   "cell_type": "code",
   "execution_count": 5,
   "outputs": [],
   "source": [
    "male_users = users[users.gender == 'm']\n",
    "female_users = users[users.gender == 'f']\n"
   ],
   "metadata": {
    "collapsed": false,
    "ExecuteTime": {
     "end_time": "2023-07-19T07:21:06.028356940Z",
     "start_time": "2023-07-19T07:21:06.024642376Z"
    }
   }
  },
  {
   "cell_type": "code",
   "execution_count": 6,
   "outputs": [
    {
     "data": {
      "text/plain": "7679"
     },
     "execution_count": 6,
     "metadata": {},
     "output_type": "execute_result"
    }
   ],
   "source": [
    "len(male_users)"
   ],
   "metadata": {
    "collapsed": false,
    "ExecuteTime": {
     "end_time": "2023-07-19T07:21:12.301810165Z",
     "start_time": "2023-07-19T07:21:12.298631246Z"
    }
   }
  },
  {
   "cell_type": "code",
   "execution_count": 7,
   "outputs": [
    {
     "data": {
      "text/plain": "1776"
     },
     "execution_count": 7,
     "metadata": {},
     "output_type": "execute_result"
    }
   ],
   "source": [
    "len(female_users)"
   ],
   "metadata": {
    "collapsed": false,
    "ExecuteTime": {
     "end_time": "2023-07-19T07:21:19.189904139Z",
     "start_time": "2023-07-19T07:21:19.187059351Z"
    }
   }
  },
  {
   "cell_type": "code",
   "execution_count": 8,
   "outputs": [
    {
     "data": {
      "text/plain": "0.81216287678477"
     },
     "execution_count": 8,
     "metadata": {},
     "output_type": "execute_result"
    }
   ],
   "source": [
    "len(male_users) / len(users)"
   ],
   "metadata": {
    "collapsed": false,
    "ExecuteTime": {
     "end_time": "2023-07-19T07:21:33.607103255Z",
     "start_time": "2023-07-19T07:21:33.604069344Z"
    }
   }
  },
  {
   "cell_type": "code",
   "execution_count": 9,
   "outputs": [
    {
     "data": {
      "text/plain": "9455"
     },
     "execution_count": 9,
     "metadata": {},
     "output_type": "execute_result"
    }
   ],
   "source": [
    "len(users)"
   ],
   "metadata": {
    "collapsed": false,
    "ExecuteTime": {
     "end_time": "2023-07-19T07:23:15.452457648Z",
     "start_time": "2023-07-19T07:23:15.450141438Z"
    }
   }
  },
  {
   "cell_type": "code",
   "execution_count": 22,
   "outputs": [
    {
     "data": {
      "text/plain": "(array([3.100e+01, 5.000e+02, 1.779e+03, 2.453e+03, 1.280e+03, 1.293e+03,\n        7.410e+02, 4.870e+02, 2.040e+02, 2.220e+02, 1.510e+02, 9.300e+01,\n        5.100e+01, 5.700e+01, 3.600e+01, 2.400e+01, 1.000e+01, 1.300e+01,\n        6.000e+00, 1.000e+00, 2.000e+00, 3.000e+00, 1.000e+00, 0.000e+00,\n        0.000e+00, 3.000e+00, 2.000e+00, 3.000e+00, 3.000e+00, 6.000e+00]),\n array([12.        , 14.76666667, 17.53333333, 20.3       , 23.06666667,\n        25.83333333, 28.6       , 31.36666667, 34.13333333, 36.9       ,\n        39.66666667, 42.43333333, 45.2       , 47.96666667, 50.73333333,\n        53.5       , 56.26666667, 59.03333333, 61.8       , 64.56666667,\n        67.33333333, 70.1       , 72.86666667, 75.63333333, 78.4       ,\n        81.16666667, 83.93333333, 86.7       , 89.46666667, 92.23333333,\n        95.        ]),\n <BarContainer object of 30 artists>)"
     },
     "execution_count": 22,
     "metadata": {},
     "output_type": "execute_result"
    },
    {
     "data": {
      "text/plain": "<Figure size 640x480 with 1 Axes>",
      "image/png": "[encoded data removed]"
     },
     "metadata": {},
     "output_type": "display_data"
    }
   ],
   "source": [
    "plt.hist(users.age.to_numpy(), bins=30)"
   ],
   "metadata": {
    "collapsed": false,
    "ExecuteTime": {
     "end_time": "2023-07-19T07:30:41.936613306Z",
     "start_time": "2023-07-19T07:30:41.846277406Z"
    }
   }
  },
  {
   "cell_type": "code",
   "execution_count": 10,
   "outputs": [],
   "source": [
    "tracks = pd.read_csv(\"lfm/cleaned/tracks.tsv\", sep=\"\\t\")"
   ],
   "metadata": {
    "collapsed": false,
    "ExecuteTime": {
     "end_time": "2023-07-19T07:24:04.102192266Z",
     "start_time": "2023-07-19T07:24:04.005354444Z"
    }
   }
  },
  {
   "cell_type": "code",
   "execution_count": 11,
   "outputs": [
    {
     "data": {
      "text/plain": "173788"
     },
     "execution_count": 11,
     "metadata": {},
     "output_type": "execute_result"
    }
   ],
   "source": [
    "len(tracks)"
   ],
   "metadata": {
    "collapsed": false,
    "ExecuteTime": {
     "end_time": "2023-07-19T07:24:09.087477241Z",
     "start_time": "2023-07-19T07:24:09.083510077Z"
    }
   }
  },
  {
   "cell_type": "code",
   "execution_count": 12,
   "outputs": [],
   "source": [
    "listening_events = pd.read_csv(\"lfm/cleaned/listening_events.tsv\", sep=\"\\t\")"
   ],
   "metadata": {
    "collapsed": false,
    "ExecuteTime": {
     "end_time": "2023-07-19T07:24:48.466825035Z",
     "start_time": "2023-07-19T07:24:47.408158512Z"
    }
   }
  },
  {
   "cell_type": "code",
   "execution_count": 13,
   "outputs": [
    {
     "data": {
      "text/plain": "4931626"
     },
     "execution_count": 13,
     "metadata": {},
     "output_type": "execute_result"
    }
   ],
   "source": [
    "len(listening_events)"
   ],
   "metadata": {
    "collapsed": false,
    "ExecuteTime": {
     "end_time": "2023-07-19T07:24:53.141338783Z",
     "start_time": "2023-07-19T07:24:53.137258459Z"
    }
   }
  },
  {
   "cell_type": "code",
   "execution_count": 25,
   "outputs": [],
   "source": [
    "kg = pd.read_csv(\"lfm/intermediate_kg/kg.txt\", sep=\"\\t\", names=[\"head\", \"relation\", \"tail\"])"
   ],
   "metadata": {
    "collapsed": false,
    "ExecuteTime": {
     "end_time": "2023-07-19T07:53:57.441423897Z",
     "start_time": "2023-07-19T07:53:57.173831102Z"
    }
   }
  },
  {
   "cell_type": "code",
   "execution_count": 26,
   "outputs": [
    {
     "data": {
      "text/plain": "        head   relation   tail\n0  t31469731  has_genre    pop\n1  t11520441  has_genre   rock\n2  t36346257  has_genre    pop\n3  t13847831  has_genre  metal\n4  t24342900  has_genre   folk",
      "text/html": "<div>\n<style scoped>\n    .dataframe tbody tr th:only-of-type {\n        vertical-align: middle;\n    }\n\n    .dataframe tbody tr th {\n        vertical-align: top;\n    }\n\n    .dataframe thead th {\n        text-align: right;\n    }\n</style>\n<table border=\"1\" class=\"dataframe\">\n  <thead>\n    <tr style=\"text-align: right;\">\n      <th></th>\n      <th>head</th>\n      <th>relation</th>\n      <th>tail</th>\n    </tr>\n  </thead>\n  <tbody>\n    <tr>\n      <th>0</th>\n      <td>t31469731</td>\n      <td>has_genre</td>\n      <td>pop</td>\n    </tr>\n    <tr>\n      <th>1</th>\n      <td>t11520441</td>\n      <td>has_genre</td>\n      <td>rock</td>\n    </tr>\n    <tr>\n      <th>2</th>\n      <td>t36346257</td>\n      <td>has_genre</td>\n      <td>pop</td>\n    </tr>\n    <tr>\n      <th>3</th>\n      <td>t13847831</td>\n      <td>has_genre</td>\n      <td>metal</td>\n    </tr>\n    <tr>\n      <th>4</th>\n      <td>t24342900</td>\n      <td>has_genre</td>\n      <td>folk</td>\n    </tr>\n  </tbody>\n</table>\n</div>"
     },
     "execution_count": 26,
     "metadata": {},
     "output_type": "execute_result"
    }
   ],
   "source": [
    "kg.head()"
   ],
   "metadata": {
    "collapsed": false,
    "ExecuteTime": {
     "end_time": "2023-07-19T07:53:58.428976499Z",
     "start_time": "2023-07-19T07:53:58.423011365Z"
    }
   }
  },
  {
   "cell_type": "code",
   "execution_count": 28,
   "outputs": [
    {
     "data": {
      "text/plain": "has_micro_genre    667024\nhas_genre          111578\nin_album           111578\ncreated_by         111578\nhas_gender           9455\nlives_in             9102\nName: relation, dtype: int64"
     },
     "execution_count": 28,
     "metadata": {},
     "output_type": "execute_result"
    }
   ],
   "source": [
    "kg.relation.value_counts()"
   ],
   "metadata": {
    "collapsed": false,
    "ExecuteTime": {
     "end_time": "2023-07-19T07:55:05.492444240Z",
     "start_time": "2023-07-19T07:55:05.488311062Z"
    }
   }
  }
 ],
 "metadata": {
  "kernelspec": {
   "display_name": "Python 3",
   "language": "python",
   "name": "python3"
  },
  "language_info": {
   "codemirror_mode": {
    "name": "ipython",
    "version": 2
   },
   "file_extension": ".py",
   "mimetype": "text/x-python",
   "name": "python",
   "nbconvert_exporter": "python",
   "pygments_lexer": "ipython2",
   "version": "2.7.6"
  }
 },
 "nbformat": 4,
 "nbformat_minor": 0
}
