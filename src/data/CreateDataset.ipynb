{
 "cells": [
  {
   "cell_type": "markdown",
   "id": "62f80974-db9d-47d2-ae39-4988b2980fcb",
   "metadata": {},
   "source": [
    "# Clean Dataset and create subset for KG creation"
   ]
  },
  {
   "cell_type": "code",
   "execution_count": 1,
   "id": "66fd99f9-04dc-4b9d-9739-341e61c09bbe",
   "metadata": {
    "ExecuteTime": {
     "end_time": "2023-07-13T19:47:19.553464Z",
     "start_time": "2023-07-13T19:47:19.071040Z"
    }
   },
   "outputs": [],
   "source": [
    "import pandas as pd\n",
    "import numpy as np\n",
    "import csv\n",
    "import time\n",
    "import sys\n",
    "import json\n",
    "import joblib\n",
    "import os\n",
    "import datetime\n",
    "\n",
    "from tqdm import tqdm"
   ]
  },
  {
   "cell_type": "code",
   "execution_count": 2,
   "id": "2acdbcd8-38f5-4b42-9804-faf6bfbe15ba",
   "metadata": {
    "ExecuteTime": {
     "end_time": "2023-07-13T19:47:29.246584Z",
     "start_time": "2023-07-13T19:47:19.364064Z"
    }
   },
   "outputs": [],
   "source": [
    "users = pd.read_csv('lfm/users.tsv', sep='\\t')\n",
    "tracks = pd.read_csv('lfm/tracks.tsv', sep='\\t')\n",
    "listening_events = pd.read_csv('lfm/listening_events.tsv', sep='\\t')\n",
    "albums = pd.read_csv('lfm/albums.tsv', sep='\\t')"
   ]
  },
  {
   "cell_type": "code",
   "execution_count": 3,
   "id": "93da2146-6082-432d-bd8a-49273f8ec34a",
   "metadata": {
    "ExecuteTime": {
     "end_time": "2023-07-13T19:47:29.255748Z",
     "start_time": "2023-07-13T19:47:29.247819Z"
    }
   },
   "outputs": [
    {
     "data": {
      "text/plain": "4079421"
     },
     "execution_count": 3,
     "metadata": {},
     "output_type": "execute_result"
    }
   ],
   "source": [
    "len(tracks)"
   ]
  },
  {
   "cell_type": "code",
   "execution_count": 4,
   "id": "a40d2728-bcc5-4a96-a142-faba2a085e01",
   "metadata": {
    "ExecuteTime": {
     "end_time": "2023-07-13T19:47:29.255882Z",
     "start_time": "2023-07-13T19:47:29.250294Z"
    }
   },
   "outputs": [
    {
     "data": {
      "text/plain": "30357786"
     },
     "execution_count": 4,
     "metadata": {},
     "output_type": "execute_result"
    }
   ],
   "source": [
    "len(listening_events)"
   ]
  },
  {
   "cell_type": "markdown",
   "id": "627a2ebb-750e-4e76-b684-9441e82563b1",
   "metadata": {},
   "source": [
    "## Clean Dataset"
   ]
  },
  {
   "cell_type": "markdown",
   "id": "330cdf18-6c7a-4862-a212-bb606e351924",
   "metadata": {},
   "source": [
    "<b> Remove users which gender is not defined and whose age is not element of [10;90] </b>"
   ]
  },
  {
   "cell_type": "code",
   "execution_count": 5,
   "id": "e2b38e8a-9839-4638-bc74-5ee0e10a7686",
   "metadata": {
    "ExecuteTime": {
     "end_time": "2023-07-13T19:47:29.257138Z",
     "start_time": "2023-07-13T19:47:29.253329Z"
    }
   },
   "outputs": [
    {
     "name": "stdout",
     "output_type": "stream",
     "text": [
      "Removed -5163 users\n"
     ]
    }
   ],
   "source": [
    "l = len(users)\n",
    "users = users[users.gender.isin(['m', 'f']) & (users.age >= 10) & (users.age <= 95)]\n",
    "print('Removed %s users' % (len(users) - l))"
   ]
  },
  {
   "cell_type": "markdown",
   "id": "6740a9c4-dc14-4328-9024-11b7c0cbf98e",
   "metadata": {},
   "source": [
    "<b> Remove now unassigned listening events </b>"
   ]
  },
  {
   "cell_type": "code",
   "execution_count": 6,
   "id": "29e1784f-14fb-43a3-8d45-e8719beeec2a",
   "metadata": {
    "ExecuteTime": {
     "end_time": "2023-07-13T19:47:29.902973Z",
     "start_time": "2023-07-13T19:47:29.257622Z"
    }
   },
   "outputs": [
    {
     "name": "stdout",
     "output_type": "stream",
     "text": [
      "Removed -9725559 listening events\n"
     ]
    }
   ],
   "source": [
    "l = len(listening_events)\n",
    "listening_events = listening_events[listening_events.user_id.isin(users.user_id)]\n",
    "print('Removed %s listening events' % (len(listening_events) - l))"
   ]
  },
  {
   "cell_type": "markdown",
   "id": "41b7f9ae-a355-4d2f-85b6-a8e0d5cc1706",
   "metadata": {},
   "source": [
    "<b> remove duplicate listening events </b>"
   ]
  },
  {
   "cell_type": "code",
   "execution_count": 7,
   "id": "fa1d288a-4368-4246-aebd-83b94717c915",
   "metadata": {
    "ExecuteTime": {
     "end_time": "2023-07-13T19:47:37.370586Z",
     "start_time": "2023-07-13T19:47:30.229811Z"
    }
   },
   "outputs": [
    {
     "name": "stdout",
     "output_type": "stream",
     "text": [
      "-10636671\n"
     ]
    }
   ],
   "source": [
    "listening_events = listening_events.sort_values('timestamp')\n",
    "old_length_le = len(listening_events)\n",
    "listening_events = listening_events.drop_duplicates(subset=['user_id', 'track_id'])\n",
    "print(len(listening_events)-old_length_le)"
   ]
  },
  {
   "cell_type": "markdown",
   "id": "17affe50-dce6-4a07-9994-b34d6ce7a961",
   "metadata": {},
   "source": [
    "<b> 10-core filtering </b>"
   ]
  },
  {
   "cell_type": "code",
   "execution_count": 8,
   "id": "06c65f4d-ad49-43da-bc04-6bed409b3ebf",
   "metadata": {
    "ExecuteTime": {
     "end_time": "2023-07-13T19:47:38.756402Z",
     "start_time": "2023-07-13T19:47:37.609316Z"
    }
   },
   "outputs": [
    {
     "name": "stdout",
     "output_type": "stream",
     "text": [
      "Records after item pass:  4937270\n",
      "Records after user pass:  4935462\n",
      "Records after item pass:  4934458\n",
      "Records after user pass:  4934458\n",
      "Records after item pass:  4934458\n",
      "Records after user pass:  4934458\n",
      "Exiting...\n"
     ]
    }
   ],
   "source": [
    "n_core = 10\n",
    "while True:\n",
    "    start_number = len(listening_events)\n",
    "\n",
    "    # Item pass\n",
    "    item_counts = listening_events.track_id.value_counts()\n",
    "    item_above = set(item_counts[item_counts >= n_core].index)\n",
    "    listening_events = listening_events[listening_events.track_id.isin(item_above)]\n",
    "    print('Records after item pass: ', len(listening_events))\n",
    "\n",
    "    # User pass\n",
    "    user_counts = listening_events.user_id.value_counts()\n",
    "    user_above = set(user_counts[user_counts >= n_core].index)\n",
    "    listening_events = listening_events[listening_events.user_id.isin(user_above)]\n",
    "    print('Records after user pass: ', len(listening_events))\n",
    "\n",
    "    if len(listening_events) == start_number:\n",
    "        print('Exiting...')\n",
    "        break"
   ]
  },
  {
   "cell_type": "code",
   "execution_count": 9,
   "id": "6cd2f9bd-2b67-4d7a-aa16-4b1bbc005b07",
   "metadata": {
    "ExecuteTime": {
     "end_time": "2023-07-13T19:47:39.333330Z",
     "start_time": "2023-07-13T19:47:38.944867Z"
    }
   },
   "outputs": [],
   "source": [
    "users = users[users.user_id.isin(set(listening_events.user_id))]\n",
    "tracks = tracks[tracks.track_id.isin(set(listening_events.track_id))]"
   ]
  },
  {
   "cell_type": "code",
   "execution_count": 10,
   "id": "db6c3072-b31c-4807-bc3c-5dbd153e3cd4",
   "metadata": {
    "ExecuteTime": {
     "end_time": "2023-07-13T19:47:39.339188Z",
     "start_time": "2023-07-13T19:47:39.335387Z"
    }
   },
   "outputs": [
    {
     "data": {
      "text/plain": "      user_id country  age gender        creation_time\n1935     5162      UK   38      m  2006-05-10 00:28:13",
      "text/html": "<div>\n<style scoped>\n    .dataframe tbody tr th:only-of-type {\n        vertical-align: middle;\n    }\n\n    .dataframe tbody tr th {\n        vertical-align: top;\n    }\n\n    .dataframe thead th {\n        text-align: right;\n    }\n</style>\n<table border=\"1\" class=\"dataframe\">\n  <thead>\n    <tr style=\"text-align: right;\">\n      <th></th>\n      <th>user_id</th>\n      <th>country</th>\n      <th>age</th>\n      <th>gender</th>\n      <th>creation_time</th>\n    </tr>\n  </thead>\n  <tbody>\n    <tr>\n      <th>1935</th>\n      <td>5162</td>\n      <td>UK</td>\n      <td>38</td>\n      <td>m</td>\n      <td>2006-05-10 00:28:13</td>\n    </tr>\n  </tbody>\n</table>\n</div>"
     },
     "execution_count": 10,
     "metadata": {},
     "output_type": "execute_result"
    }
   ],
   "source": [
    "users.sample(1)"
   ]
  },
  {
   "cell_type": "code",
   "execution_count": 11,
   "id": "1c0d9740-0dfb-4bba-bf17-024458733c12",
   "metadata": {
    "ExecuteTime": {
     "end_time": "2023-07-13T19:47:39.341688Z",
     "start_time": "2023-07-13T19:47:39.340071Z"
    }
   },
   "outputs": [
    {
     "data": {
      "text/plain": "4934458"
     },
     "execution_count": 11,
     "metadata": {},
     "output_type": "execute_result"
    }
   ],
   "source": [
    "len(listening_events)"
   ]
  },
  {
   "cell_type": "code",
   "execution_count": 12,
   "id": "a0148c20-8481-4dae-8a03-fdce6d4efd4f",
   "metadata": {
    "ExecuteTime": {
     "end_time": "2023-07-13T19:47:39.557104Z",
     "start_time": "2023-07-13T19:47:39.342147Z"
    }
   },
   "outputs": [],
   "source": [
    "listening_events = listening_events[listening_events.user_id.isin(users.user_id)]\n",
    "listening_events = listening_events[listening_events.track_id.isin(tracks.track_id)]"
   ]
  },
  {
   "cell_type": "code",
   "execution_count": 13,
   "id": "0ee1d9b9-5423-4db0-b398-99c918f7515e",
   "metadata": {
    "ExecuteTime": {
     "end_time": "2023-07-13T19:47:39.559332Z",
     "start_time": "2023-07-13T19:47:39.557699Z"
    }
   },
   "outputs": [
    {
     "data": {
      "text/plain": "4931626"
     },
     "execution_count": 13,
     "metadata": {},
     "output_type": "execute_result"
    }
   ],
   "source": [
    "len(listening_events)"
   ]
  },
  {
   "cell_type": "code",
   "execution_count": 14,
   "outputs": [
    {
     "data": {
      "text/plain": "    user_id  track_id  album_id            timestamp\n2     16026  40012596  18558010  2020-01-01 00:00:01\n3     42410  14250568   8916172  2020-01-01 00:00:01\n5     39972  33291229   6630145  2020-01-01 00:00:01\n7      7744  18394900  19722005  2020-01-01 00:00:02\n14    14807  21889387  16391976  2020-01-01 00:00:03",
      "text/html": "<div>\n<style scoped>\n    .dataframe tbody tr th:only-of-type {\n        vertical-align: middle;\n    }\n\n    .dataframe tbody tr th {\n        vertical-align: top;\n    }\n\n    .dataframe thead th {\n        text-align: right;\n    }\n</style>\n<table border=\"1\" class=\"dataframe\">\n  <thead>\n    <tr style=\"text-align: right;\">\n      <th></th>\n      <th>user_id</th>\n      <th>track_id</th>\n      <th>album_id</th>\n      <th>timestamp</th>\n    </tr>\n  </thead>\n  <tbody>\n    <tr>\n      <th>2</th>\n      <td>16026</td>\n      <td>40012596</td>\n      <td>18558010</td>\n      <td>2020-01-01 00:00:01</td>\n    </tr>\n    <tr>\n      <th>3</th>\n      <td>42410</td>\n      <td>14250568</td>\n      <td>8916172</td>\n      <td>2020-01-01 00:00:01</td>\n    </tr>\n    <tr>\n      <th>5</th>\n      <td>39972</td>\n      <td>33291229</td>\n      <td>6630145</td>\n      <td>2020-01-01 00:00:01</td>\n    </tr>\n    <tr>\n      <th>7</th>\n      <td>7744</td>\n      <td>18394900</td>\n      <td>19722005</td>\n      <td>2020-01-01 00:00:02</td>\n    </tr>\n    <tr>\n      <th>14</th>\n      <td>14807</td>\n      <td>21889387</td>\n      <td>16391976</td>\n      <td>2020-01-01 00:00:03</td>\n    </tr>\n  </tbody>\n</table>\n</div>"
     },
     "execution_count": 14,
     "metadata": {},
     "output_type": "execute_result"
    }
   ],
   "source": [
    "listening_events.head()"
   ],
   "metadata": {
    "collapsed": false,
    "ExecuteTime": {
     "end_time": "2023-07-13T19:47:39.568738Z",
     "start_time": "2023-07-13T19:47:39.567025Z"
    }
   }
  },
  {
   "cell_type": "code",
   "execution_count": 15,
   "outputs": [],
   "source": [
    "listening_events.timestamp = listening_events.timestamp.apply(lambda x: int(datetime.datetime.strptime(x, \"%Y-%m-%d %H:%M:%S\").timestamp()))"
   ],
   "metadata": {
    "collapsed": false,
    "ExecuteTime": {
     "end_time": "2023-07-13T19:47:54.101071Z",
     "start_time": "2023-07-13T19:47:39.569149Z"
    }
   }
  },
  {
   "cell_type": "code",
   "execution_count": 16,
   "outputs": [
    {
     "data": {
      "text/plain": "    user_id  track_id  album_id   timestamp\n2     16026  40012596  18558010  1577833201\n3     42410  14250568   8916172  1577833201\n5     39972  33291229   6630145  1577833201\n7      7744  18394900  19722005  1577833202\n14    14807  21889387  16391976  1577833203",
      "text/html": "<div>\n<style scoped>\n    .dataframe tbody tr th:only-of-type {\n        vertical-align: middle;\n    }\n\n    .dataframe tbody tr th {\n        vertical-align: top;\n    }\n\n    .dataframe thead th {\n        text-align: right;\n    }\n</style>\n<table border=\"1\" class=\"dataframe\">\n  <thead>\n    <tr style=\"text-align: right;\">\n      <th></th>\n      <th>user_id</th>\n      <th>track_id</th>\n      <th>album_id</th>\n      <th>timestamp</th>\n    </tr>\n  </thead>\n  <tbody>\n    <tr>\n      <th>2</th>\n      <td>16026</td>\n      <td>40012596</td>\n      <td>18558010</td>\n      <td>1577833201</td>\n    </tr>\n    <tr>\n      <th>3</th>\n      <td>42410</td>\n      <td>14250568</td>\n      <td>8916172</td>\n      <td>1577833201</td>\n    </tr>\n    <tr>\n      <th>5</th>\n      <td>39972</td>\n      <td>33291229</td>\n      <td>6630145</td>\n      <td>1577833201</td>\n    </tr>\n    <tr>\n      <th>7</th>\n      <td>7744</td>\n      <td>18394900</td>\n      <td>19722005</td>\n      <td>1577833202</td>\n    </tr>\n    <tr>\n      <th>14</th>\n      <td>14807</td>\n      <td>21889387</td>\n      <td>16391976</td>\n      <td>1577833203</td>\n    </tr>\n  </tbody>\n</table>\n</div>"
     },
     "execution_count": 16,
     "metadata": {},
     "output_type": "execute_result"
    }
   ],
   "source": [
    "listening_events.head()"
   ],
   "metadata": {
    "collapsed": false,
    "ExecuteTime": {
     "end_time": "2023-07-13T19:47:54.104563Z",
     "start_time": "2023-07-13T19:47:54.102481Z"
    }
   }
  },
  {
   "cell_type": "code",
   "execution_count": 17,
   "id": "2e6014d8-bf17-4211-a25a-4ef7982b6015",
   "metadata": {
    "ExecuteTime": {
     "end_time": "2023-07-13T19:47:54.105870Z",
     "start_time": "2023-07-13T19:47:54.104675Z"
    }
   },
   "outputs": [],
   "source": [
    "if not os.path.exists('lfm/cleaned'):\n",
    "    os.makedirs('lfm/cleaned')"
   ]
  },
  {
   "cell_type": "code",
   "execution_count": 18,
   "id": "36e7e5b8-3e32-4171-9740-7b9ab65ad73a",
   "metadata": {
    "ExecuteTime": {
     "end_time": "2023-07-13T19:47:58.687329Z",
     "start_time": "2023-07-13T19:47:54.106517Z"
    }
   },
   "outputs": [],
   "source": [
    "tracks.to_csv('lfm/cleaned/tracks.tsv', sep='\\t', index=False)\n",
    "listening_events.to_csv('lfm/cleaned/listening_events.tsv', sep='\\t', index=False)\n",
    "users.to_csv('lfm/cleaned/users.tsv', sep='\\t', index=False)\n",
    "albums.to_csv('lfm/cleaned/albums.tsv', sep='\\t', index=False)"
   ]
  },
  {
   "cell_type": "code",
   "execution_count": 19,
   "id": "d8ce3133-2b14-419d-8bfa-70330821578e",
   "metadata": {
    "ExecuteTime": {
     "end_time": "2023-07-13T19:47:58.691584Z",
     "start_time": "2023-07-13T19:47:58.687694Z"
    }
   },
   "outputs": [
    {
     "name": "stdout",
     "output_type": "stream",
     "text": [
      "173788\n",
      "9455\n",
      "4931626\n"
     ]
    }
   ],
   "source": [
    "print(len(tracks))\n",
    "print(len(users))\n",
    "print(len(listening_events))"
   ]
  },
  {
   "cell_type": "markdown",
   "id": "6cd4ea31-ecc2-477f-8c52-8279c4152fd7",
   "metadata": {},
   "source": [
    "# Create KG files"
   ]
  },
  {
   "cell_type": "code",
   "execution_count": 20,
   "id": "0375c041-0263-4ee6-bb64-a3c5ebd68cad",
   "metadata": {
    "ExecuteTime": {
     "end_time": "2023-07-13T19:47:58.691671Z",
     "start_time": "2023-07-13T19:47:58.689701Z"
    }
   },
   "outputs": [],
   "source": [
    "#csv.field_size_limit(sys.maxsize)"
   ]
  },
  {
   "cell_type": "markdown",
   "id": "1cbafa10-e8d6-455c-98c8-d185e736259a",
   "metadata": {},
   "source": [
    "## Entities\n",
    "\n",
    "- user\n",
    "- artist\n",
    "- album\n",
    "- track\n",
    "- genre\n",
    "\n",
    "**Additional information:**\n",
    "- gender\n",
    "- country"
   ]
  },
  {
   "cell_type": "markdown",
   "id": "f1c251f4-1215-473d-8af1-e67630ddcb4d",
   "metadata": {},
   "source": [
    "#### Users"
   ]
  },
  {
   "cell_type": "code",
   "execution_count": 21,
   "id": "178b8fe6-d974-4557-8b90-207db634cca8",
   "metadata": {
    "ExecuteTime": {
     "end_time": "2023-07-13T19:47:58.693046Z",
     "start_time": "2023-07-13T19:47:58.691833Z"
    }
   },
   "outputs": [],
   "source": [
    "if not os.path.exists('lfm/intermediate_kg/entities'):\n",
    "    os.makedirs('lfm/intermediate_kg/entities')"
   ]
  },
  {
   "cell_type": "code",
   "execution_count": 22,
   "id": "67cc3a20-73ba-4e07-bcac-bb98b7f01d15",
   "metadata": {
    "ExecuteTime": {
     "end_time": "2023-07-13T19:47:58.700659Z",
     "start_time": "2023-07-13T19:47:58.693416Z"
    }
   },
   "outputs": [],
   "source": [
    "path = 'lfm'\n",
    "path_prefix = 'lfm/intermediate_kg'\n",
    "read_path_prefix = 'lfm/cleaned'\n",
    "write_path_prefix = 'lfm/intermediate_kg'"
   ]
  },
  {
   "cell_type": "code",
   "execution_count": 23,
   "id": "62e48cc1-1a7a-4ef1-a6f9-92a0b2951a99",
   "metadata": {
    "ExecuteTime": {
     "end_time": "2023-07-13T19:47:59.256724Z",
     "start_time": "2023-07-13T19:47:58.695702Z"
    }
   },
   "outputs": [
    {
     "name": "stderr",
     "output_type": "stream",
     "text": [
      "9456it [00:00, 814050.18it/s]\n"
     ]
    },
    {
     "name": "stdout",
     "output_type": "stream",
     "text": [
      "['user_id', 'country', 'age', 'gender', 'creation_time']\n",
      "done.\n"
     ]
    }
   ],
   "source": [
    "# user_id, country, age, gender, creation_time\n",
    "with open(\"%s/users.tsv\" % read_path_prefix, \"r\", encoding='utf-8') as data, open(\"%s/users.txt\" % write_path_prefix, \"w\") as f:\n",
    "    datareader = csv.reader(data, quoting=csv.QUOTE_NONE)\n",
    "    \n",
    "    for i, row in tqdm(enumerate(datareader)):\n",
    "        if i == 0:\n",
    "            header = row[0].split(sep=\"\\t\")\n",
    "        if i != 0:\n",
    "            entry = row[0].split(sep=\"\\t\")\n",
    "            f.writelines(\"u\" + entry[0] + \"\\t\" + entry[1] + \"\\t\" + entry[2] + \"\\t\" + entry[3] + \"\\n\")\n",
    "            \n",
    "time.sleep(0.5)            \n",
    "\n",
    "print(header)\n",
    "print(\"done.\")"
   ]
  },
  {
   "cell_type": "markdown",
   "id": "7a3f2123-983f-42cc-b82c-98af5bc2f8ca",
   "metadata": {},
   "source": [
    "#### Artists"
   ]
  },
  {
   "cell_type": "code",
   "execution_count": 24,
   "id": "b51d7242-8376-474a-ab36-98608fcc60ab",
   "metadata": {
    "ExecuteTime": {
     "end_time": "2023-07-13T19:47:59.257025Z",
     "start_time": "2023-07-13T19:47:59.237800Z"
    }
   },
   "outputs": [],
   "source": [
    "# artist_id, artist_name\n",
    "#with open(\"data/artists.tsv\", \"r\", encoding='utf-8') as data, open(\"data/kg/artists.txt\", \"w\") as f:\n",
    "#    datareader = csv.reader(data, quoting=csv.QUOTE_NONE)\n",
    "#    \n",
    "#    for i, row in tqdm(enumerate(datareader)):\n",
    "#        if i == 0:\n",
    "#            header = row[0].split(sep=\"\\t\")\n",
    "#        if i != 0:\n",
    "#            entry = row[0].split(sep=\"\\t\")\n",
    "#            f.writelines(\"a\" + entry[0] + \"\\t\" + str(entry[1].encode(\"utf-8\")) + \"\\n\")\n",
    "#            \n",
    "#time.sleep(0.5)            \n",
    "#\n",
    "#print(header)\n",
    "#print(\"done.\")"
   ]
  },
  {
   "cell_type": "markdown",
   "id": "ef3e0948-660a-4d9b-9b2b-a02e5b40cf44",
   "metadata": {},
   "source": [
    "#### Albums"
   ]
  },
  {
   "cell_type": "code",
   "execution_count": 25,
   "id": "0329603c-c731-49de-ab41-580ce447cd0f",
   "metadata": {
    "ExecuteTime": {
     "end_time": "2023-07-13T19:47:59.257132Z",
     "start_time": "2023-07-13T19:47:59.244614Z"
    }
   },
   "outputs": [],
   "source": [
    "# album_id, album_name, artist_name\n",
    "#with open(\"data/albums.tsv\", \"r\", encoding='utf-8') as data, open(\"data/kg/albums.txt\", \"w\") as f:\n",
    "#    datareader = csv.reader(data, quoting=csv.QUOTE_NONE)\n",
    "#    \n",
    "#    for i, row in tqdm(enumerate(datareader)):\n",
    "#        if i == 0:\n",
    "#            header = row[0].split(sep=\"\\t\")\n",
    "#        if i != 0:\n",
    "#            entry = row[0].split(sep=\"\\t\")\n",
    "#            f.writelines(\"b\" + entry[0] + \"\\t\" + str(entry[1].encode(\"utf-8\")) +  \"\\n\")\n",
    "#            \n",
    "#time.sleep(0.5)\n",
    "#\n",
    "#print(header)\n",
    "#print(\"done.\")"
   ]
  },
  {
   "cell_type": "markdown",
   "id": "e29a3aaf-7279-44d1-8955-7347f2f4bb08",
   "metadata": {},
   "source": [
    "#### Tracks"
   ]
  },
  {
   "cell_type": "code",
   "execution_count": 26,
   "id": "ef32eee1-6204-40b4-838b-7004064c68fa",
   "metadata": {
    "ExecuteTime": {
     "end_time": "2023-07-13T19:48:00.116223Z",
     "start_time": "2023-07-13T19:47:59.254001Z"
    }
   },
   "outputs": [
    {
     "name": "stderr",
     "output_type": "stream",
     "text": [
      "173789it [00:00, 526973.45it/s]\n"
     ]
    },
    {
     "name": "stdout",
     "output_type": "stream",
     "text": [
      "['track_id', 'artist', 'track']\n",
      "done.\n",
      "401\n"
     ]
    }
   ],
   "source": [
    "# track_id, artist_name, track_name\n",
    "track_complete_dict = {}\n",
    "counter = 0\n",
    "with open(\"%s/tracks.tsv\" % read_path_prefix, \"r\", encoding='utf-8') as data, open(\"%s/tracks.txt\" % write_path_prefix, \"w\") as f:\n",
    "    datareader = csv.reader(data, quoting=csv.QUOTE_NONE)\n",
    "    \n",
    "    for i, row in tqdm(enumerate(datareader)):\n",
    "        if i == 0:\n",
    "            header = row[0].split(sep=\"\\t\")\n",
    "        if i != 0:\n",
    "            entry = row[0].split(sep=\"\\t\")\n",
    "            try:\n",
    "                f.writelines(\"t\" + entry[0] + \"\\t\" + str(entry[2].encode(\"utf-8\")) + \"\\n\")\n",
    "                track_id = \"t\" + entry[0]\n",
    "                if track_id not in track_complete_dict:\n",
    "                    track_complete_dict[track_id] = 0\n",
    "            except:\n",
    "                f.writelines(\"t\" + entry[0] + \"\\t\" + \"???\" + \"\\n\")\n",
    "                counter += 1\n",
    "            \n",
    "time.sleep(0.5)            \n",
    "\n",
    "print(header)\n",
    "print(\"done.\")\n",
    "print(counter)"
   ]
  },
  {
   "cell_type": "code",
   "execution_count": 27,
   "id": "b6178309-681d-4756-b781-31547fe1b5d6",
   "metadata": {
    "ExecuteTime": {
     "end_time": "2023-07-13T19:48:00.117027Z",
     "start_time": "2023-07-13T19:48:00.107571Z"
    }
   },
   "outputs": [
    {
     "name": "stdout",
     "output_type": "stream",
     "text": [
      "173387\n"
     ]
    }
   ],
   "source": [
    "print(len(list(track_complete_dict.keys())))"
   ]
  },
  {
   "cell_type": "markdown",
   "id": "8e46b64f-f4b2-4eaf-a206-be940be6f0bc",
   "metadata": {},
   "source": [
    "#### Genres"
   ]
  },
  {
   "cell_type": "code",
   "execution_count": 28,
   "id": "a904251d-08bc-442e-ae7f-f04c1d986918",
   "metadata": {
    "ExecuteTime": {
     "end_time": "2023-07-13T19:48:00.117276Z",
     "start_time": "2023-07-13T19:48:00.113146Z"
    }
   },
   "outputs": [],
   "source": [
    "#counter = 0\n",
    "#with open(\"data/micro_genre_tags.json\", \"r\", encoding='utf-8') as data, open(\"data/kg/genres.txt\", \"w\") as f:\n",
    "#    for line in tqdm(data):\n",
    "#        try:\n",
    "#            entry = json.loads(line)\n",
    "#            track_name = entry['_id']['track']\n",
    "#            artist_name = entry['_id']['artist']\n",
    "#            main_genre = list(entry['tags'].keys())[0]\n",
    "#            genres = \",\".join(list(entry['tags'].keys()))\n",
    "#\n",
    "#            f.writelines(track_name + \"\\t\" + artist_name + \"\\t\" + main_genre + \"\\t\" + genres + \"\\n\")\n",
    "#        except:\n",
    "#            counter += 1\n",
    "#            continue\n",
    "#            \n",
    "#time.sleep(0.5)            \n",
    "#\n",
    "#print(header)\n",
    "#print(\"done.\")\n",
    "#print(counter)"
   ]
  },
  {
   "cell_type": "markdown",
   "id": "6fdae85e-6810-4fab-be5b-94c6704b0194",
   "metadata": {},
   "source": [
    "#### Gender & Country"
   ]
  },
  {
   "cell_type": "code",
   "execution_count": 29,
   "id": "385526eb-076c-4676-9084-68910108285d",
   "metadata": {
    "ExecuteTime": {
     "end_time": "2023-07-13T19:48:00.647754Z",
     "start_time": "2023-07-13T19:48:00.122594Z"
    }
   },
   "outputs": [
    {
     "name": "stderr",
     "output_type": "stream",
     "text": [
      "9455it [00:00, 946719.77it/s]\n"
     ]
    },
    {
     "name": "stdout",
     "output_type": "stream",
     "text": [
      "done.\n",
      "9453\n",
      "9331\n"
     ]
    }
   ],
   "source": [
    "gdict = {}\n",
    "cdict = {}\n",
    "\n",
    "gcounter = 0\n",
    "ccounter = 0\n",
    "\n",
    "with open(\"%s/users.txt\" % write_path_prefix, \"r\") as data,\\\n",
    "open(\"%s/entities/gender.txt\"  % (path_prefix), \"w\") as f,\\\n",
    "open(\"%s/entities/country.txt\" % (path_prefix), \"w\") as f2:\n",
    "    datareader = csv.reader(data)\n",
    "    \n",
    "    for i, row in tqdm(enumerate(datareader)):\n",
    "        entry = row[0].split(sep=\"\\t\")\n",
    "        if entry[3] == \"\" or entry[3] in gdict:\n",
    "            gcounter += 1\n",
    "        else:\n",
    "            gdict[entry[3]] = 0\n",
    "            f.writelines(entry[3] + \"\\n\")\n",
    "            \n",
    "        if entry[1] == \"\" or entry[1] in cdict:\n",
    "            ccounter += 1\n",
    "        else:\n",
    "            cdict[entry[1]] = 0\n",
    "            f2.writelines(entry[1] + \"\\n\")\n",
    "            \n",
    "time.sleep(0.5)\n",
    "            \n",
    "print(\"done.\")\n",
    "print(gcounter)\n",
    "print(ccounter)"
   ]
  },
  {
   "cell_type": "markdown",
   "id": "a2a74df8-807c-434c-8324-e12b24c007a5",
   "metadata": {},
   "source": [
    "#### Country"
   ]
  },
  {
   "cell_type": "code",
   "execution_count": 30,
   "id": "16c73cc6-4992-4d4f-8239-393bb802f66d",
   "metadata": {
    "ExecuteTime": {
     "end_time": "2023-07-13T19:48:00.664313Z",
     "start_time": "2023-07-13T19:48:00.650255Z"
    }
   },
   "outputs": [],
   "source": [
    "# DONE"
   ]
  },
  {
   "cell_type": "markdown",
   "id": "bc1c4dc3-9a07-4605-85d4-a18accb05479",
   "metadata": {},
   "source": [
    "## Relations\n",
    "\n",
    "- **listened_to:** _user_ listened_to _track_\n",
    "- **in_album:** _track_ in_album _album_\n",
    "- **created_by:** _track_ created_by _artist_\n",
    "- **has_genre**: _track_ has_genre _genre_\n",
    "\n",
    "**Additional information:**\n",
    "- **has_micro_genre**: _track_ has_micro_genre _genre_ (**or** instead of has_genre)\n",
    "- **has_gender**: _user_ has_gender _gender_\n",
    "- **lives_in**: _user_ lives_in _country_"
   ]
  },
  {
   "cell_type": "code",
   "execution_count": 31,
   "id": "c875ef1a-ba5b-4494-8f48-7b16d265bad4",
   "metadata": {
    "ExecuteTime": {
     "end_time": "2023-07-13T19:48:00.664594Z",
     "start_time": "2023-07-13T19:48:00.657482Z"
    }
   },
   "outputs": [],
   "source": [
    "if not os.path.exists('lfm/intermediate_kg/relations'):\n",
    "    os.makedirs('lfm/intermediate_kg/relations')"
   ]
  },
  {
   "cell_type": "code",
   "execution_count": 32,
   "id": "84b480f9-ef00-48a9-bcb6-d6b0982bc04c",
   "metadata": {
    "ExecuteTime": {
     "end_time": "2023-07-13T19:48:00.673908Z",
     "start_time": "2023-07-13T19:48:00.663608Z"
    }
   },
   "outputs": [],
   "source": [
    "# check genres.txt --> clean track and artist names, we filter it with that list?\n",
    "# create new dict mit track names, artist names and look up for all the relations\n",
    "\n",
    "# track_name, artist_name, main_genre, micro_genre\n",
    "\n",
    "#track_dict = {}\n",
    "\n",
    "#with open(\"data/kg/genres.txt\", \"r\") as data: #, open(\"data/kg/tracks.txt\", \"w\") as f:\n",
    "#    datareader = csv.reader(data)\n",
    "    \n",
    "#    for i, row in tqdm(enumerate(datareader)):\n",
    "#        try:\n",
    "#            helper = row[0].split(\"\\t\")\n",
    "#            track_name = helper[0]\n",
    "#            artist_name = helper[1]\n",
    "#            main_genre = helper[2]\n",
    "#            micro_genre = row[1:]\n",
    "#        except:\n",
    "#            row = \", \".join(row)\n",
    "#            helper = row.split(\"\\t\")\n",
    "            \n",
    "#            track_name = helper[0]\n",
    "#            artist_name = helper[1]\n",
    "#            main_genre = helper[2]\n",
    "#            micro_genre = helper[3].split(\",\")[1:]\n",
    "#            continue\n",
    "        \n",
    "#        key = track_name # + \" || \" + artist_name\n",
    "        \n",
    "#        if key not in track_dict:\n",
    "#            track_dict[key] = {}\n",
    "#            track_dict[key][\"artist\"] = artist_name\n",
    "#            track_dict[key][\"main_genre\"] = main_genre\n",
    "#            track_dict[key][\"micro_genre\"] = micro_genre\n",
    "        \n",
    "#print(\"saving...\")\n",
    "\n",
    "#joblib.dump(track_dict, \"data/kg/track_dict.pkl\")\n",
    "\n",
    "#print(\"done.\")"
   ]
  },
  {
   "cell_type": "markdown",
   "id": "8bc44dd3-59bc-4a61-87aa-477ef00a8080",
   "metadata": {},
   "source": [
    "#### listened_to"
   ]
  },
  {
   "cell_type": "code",
   "execution_count": 33,
   "id": "310edf12-7050-4035-8260-feec0377e041",
   "metadata": {
    "ExecuteTime": {
     "end_time": "2023-07-13T19:48:12.168853Z",
     "start_time": "2023-07-13T19:48:00.670797Z"
    }
   },
   "outputs": [
    {
     "name": "stderr",
     "output_type": "stream",
     "text": [
      "4931627it [00:10, 449507.31it/s]\n"
     ]
    },
    {
     "name": "stdout",
     "output_type": "stream",
     "text": [
      "['user_id', 'track_id', 'album_id', 'timestamp']\n",
      "done.\n"
     ]
    }
   ],
   "source": [
    "# user_id, track_id, album_id, timestamp\n",
    "counter = 0\n",
    "counts_dict = {}\n",
    "track_dict = {}\n",
    "with open(\"%s/listening_events.tsv\" % (read_path_prefix), \"r\") as data, open(\"%s/relations/listened_to.txt\" % (path_prefix), \"w\") as f:\n",
    "    datareader = csv.reader(data)\n",
    "\n",
    "    for i, row in tqdm(enumerate(datareader)):\n",
    "        if i == 0:\n",
    "            header = row[0].split(sep=\"\\t\")\n",
    "        if i != 0:\n",
    "            entry = row[0].split(sep=\"\\t\")\n",
    "\n",
    "            track_id = \"t\" + entry[1]\n",
    "            if track_id not in track_dict:\n",
    "                track_dict[track_id] = 0\n",
    "\n",
    "            key = \"u\" + entry[0] + \", \" + \"listened_to\" + \", \" + \"t\" + entry[1]\n",
    "            if key not in counts_dict:\n",
    "                counts_dict[key] = 0\n",
    "                f.writelines(\"u\" + entry[0] + \"\\t\" + \"listened_to\" + \"\\t\" + \"t\" + entry[1] + \"\\n\")\n",
    "            else:\n",
    "                counts_dict[key] += 1\n",
    "\n",
    "            #try:\n",
    "            #    f.writelines(\"u\" + entry[0] + \"\\t\" + \"listened_to\" + \"\\t\" + \"t\" + entry[1] + \"\\n\")\n",
    "            #except:\n",
    "            #    counter += 1\n",
    "            #    continue\n",
    "\n",
    "time.sleep(0.5)\n",
    "\n",
    "print(header)\n",
    "print(\"done.\")\n",
    "# print(counter)"
   ]
  },
  {
   "cell_type": "code",
   "execution_count": 34,
   "outputs": [],
   "source": [
    "os.remove('lfm/intermediate_kg/relations/listened_to.txt')"
   ],
   "metadata": {
    "collapsed": false,
    "ExecuteTime": {
     "end_time": "2023-07-13T19:48:12.172626Z",
     "start_time": "2023-07-13T19:48:12.168746Z"
    }
   }
  },
  {
   "cell_type": "code",
   "execution_count": 35,
   "id": "ae613cbe-816e-43b9-b1f3-41c7ea403969",
   "metadata": {
    "ExecuteTime": {
     "end_time": "2023-07-13T19:48:12.172712Z",
     "start_time": "2023-07-13T19:48:12.171085Z"
    }
   },
   "outputs": [],
   "source": [
    "#print(len(list(track_dict.keys())))"
   ]
  },
  {
   "cell_type": "markdown",
   "id": "ec7f248f-4c41-4886-b2f7-50ac09e15059",
   "metadata": {},
   "source": [
    "#### created_by & has_genre & has_micro_genre & in_album"
   ]
  },
  {
   "cell_type": "code",
   "execution_count": 36,
   "id": "ea5cc9d3-0b54-4ca2-beab-bc2290d1da23",
   "metadata": {
    "ExecuteTime": {
     "end_time": "2023-07-13T19:48:27.305783Z",
     "start_time": "2023-07-13T19:48:12.172440Z"
    }
   },
   "outputs": [
    {
     "name": "stderr",
     "output_type": "stream",
     "text": [
      "3602111it [00:14, 246801.09it/s]\n"
     ]
    },
    {
     "name": "stdout",
     "output_type": "stream",
     "text": [
      "done.\n",
      "3490533\n"
     ]
    }
   ],
   "source": [
    "counter = 0\n",
    "\n",
    "artist_dict = {}\n",
    "album_dict = {}\n",
    "type_dict = {}\n",
    "genre_dict = {}\n",
    "check_dict = {}\n",
    "\n",
    "with open(\"%s/micro_genre_tags_new.json\" % path, \"r\", encoding='utf-8') as data,\\\n",
    "open(\"%s/relations/has_genre.txt\" % (path_prefix), \"w\", encoding='utf-8') as f1,\\\n",
    "open(\"%s/relations/has_micro_genre.txt\" % (path_prefix), \"w\", encoding='utf-8') as f2,\\\n",
    "open(\"%s/relations/in_album.txt\" % (path_prefix), \"w\", encoding='utf-8') as f3,\\\n",
    "open(\"%s/relations/created_by.txt\" % (path_prefix), \"w\", encoding='utf-8') as f4,\\\n",
    "open(\"%s/entities/artist.txt\" % (path_prefix), \"w\", encoding='utf-8') as e1,\\\n",
    "open(\"%s/entities/album.txt\" % (path_prefix), \"w\", encoding='utf-8') as e2,\\\n",
    "open(\"%s/entities/artist_type.txt\" % (path_prefix), \"w\", encoding='utf-8') as e3,\\\n",
    "open(\"%s/entities/genre.txt\" % (path_prefix), \"w\", encoding='utf-8') as e4,\\\n",
    "open(\"%s/entities/track.txt\" % (path_prefix), \"w\", encoding='utf-8') as t: #?????????\n",
    "    for line in tqdm(data):\n",
    "        entry = json.loads(line)\n",
    "        #print(entry)\n",
    "        track_id = str(entry['_id'])\n",
    "        track_name = str(entry['track']['track']) #?????????\n",
    "        main_genre = str(list(entry['tags'].keys())[0])\n",
    "        micro_genre = list(entry['tags'].keys())[1:]\n",
    "        \n",
    "        artist_id = str(entry['artist']['artist_id'])\n",
    "        artist_name = str(entry['artist']['artist'])\n",
    "        artist_gender = str(entry['artist']['gender'])\n",
    "        artist_type = str(entry['artist']['type'])\n",
    "        \n",
    "        album_id = str(entry['album']['album_id'])\n",
    "        album_name = str(entry['album']['album'])\n",
    "        \n",
    "        check = \"t\" + track_id\n",
    "        if check in track_dict:\n",
    "            if check not in check_dict: #?????????\n",
    "                check_dict[check] = 0\n",
    "                track_dict[check] = track_name\n",
    "                t.writelines(check + \"\\t\" + track_name + \"\\n\")\n",
    "                \n",
    "            if artist_id not in artist_dict:\n",
    "                artist_dict[artist_id] = 0\n",
    "                e1.writelines(\"a\" + artist_id + \"\\t\" + artist_name + \"\\t\" + artist_gender + \"\\t\" + artist_type + \"\\n\")\n",
    "\n",
    "            if album_id not in album_dict:\n",
    "                album_dict[album_id] = 0\n",
    "                e2.writelines(\"b\" + album_id + \"\\t\" + album_name + \"\\n\")\n",
    "\n",
    "            if artist_type not in type_dict:\n",
    "                type_dict[artist_type] = 0\n",
    "                e3.writelines(artist_type + \"\\n\")\n",
    "\n",
    "            if main_genre not in genre_dict:\n",
    "                genre_dict[main_genre] = 0\n",
    "                e4.writelines(main_genre + \"\\n\")\n",
    "\n",
    "            for micro in micro_genre:\n",
    "                m = str(micro)\n",
    "                if m not in genre_dict:\n",
    "                    genre_dict[m] = 0\n",
    "                    e4.writelines(m + \"\\n\")\n",
    "\n",
    "            created_by = \"t\" + track_id + \"\\t\" + \"created_by\" + \"\\t\" + \"a\" + artist_id + \"\\n\"\n",
    "            f4.writelines(created_by)\n",
    "            #print(created_by)\n",
    "            has_genre = \"t\" + track_id + \"\\t\" + \"has_genre\" + \"\\t\" + main_genre + \"\\n\"\n",
    "            f1.writelines(has_genre)\n",
    "            #print(has_genre)\n",
    "            for micro in micro_genre:\n",
    "                has_micro_genre = \"t\" + track_id + \"\\t\" + \"has_micro_genre\" + \"\\t\" + micro + \"\\n\"\n",
    "                f2.writelines(has_micro_genre)\n",
    "            #    print(has_micro_genre)\n",
    "            in_album = \"t\" + track_id + \"\\t\" + \"in_album\" + \"\\t\" + \"b\" + album_id + \"\\n\"\n",
    "            f3.writelines(in_album)\n",
    "            #print(in_album)\n",
    "        else:\n",
    "            counter += 1\n",
    "            \n",
    "time.sleep(0.5)            \n",
    "\n",
    "print(\"done.\")\n",
    "print(counter)"
   ]
  },
  {
   "cell_type": "code",
   "execution_count": 37,
   "id": "8e2f055d-377c-491d-b0eb-00c1e5ab3bb2",
   "metadata": {
    "ExecuteTime": {
     "end_time": "2023-07-13T19:48:27.305928Z",
     "start_time": "2023-07-13T19:48:27.288491Z"
    }
   },
   "outputs": [
    {
     "name": "stdout",
     "output_type": "stream",
     "text": [
      "111578\n"
     ]
    }
   ],
   "source": [
    "print(len(list(check_dict.keys())))"
   ]
  },
  {
   "cell_type": "code",
   "execution_count": 38,
   "id": "1a21138e-827c-4f5c-95fe-378f6f59ca67",
   "metadata": {
    "ExecuteTime": {
     "end_time": "2023-07-13T19:48:27.988583Z",
     "start_time": "2023-07-13T19:48:27.293132Z"
    }
   },
   "outputs": [
    {
     "name": "stderr",
     "output_type": "stream",
     "text": [
      "100%|██████████| 173788/173788 [00:00<00:00, 980652.12it/s]\n"
     ]
    },
    {
     "name": "stdout",
     "output_type": "stream",
     "text": [
      "done.\n"
     ]
    }
   ],
   "source": [
    "with open(\"%s/entities/track_new.txt\" % (path_prefix), \"w\", encoding='utf-8') as t:\n",
    "    for key, value in tqdm(track_dict.items()):\n",
    "        track_id = key\n",
    "        track_name = value\n",
    "        \n",
    "        if track_name == 0:\n",
    "            track_name = \"???\"\n",
    "            \n",
    "        t.writelines(track_id + \"\\t\" + track_name + \"\\n\")\n",
    "        \n",
    "time.sleep(0.5)\n",
    "        \n",
    "print(\"done.\")"
   ]
  },
  {
   "cell_type": "markdown",
   "id": "dac8d836-a3a8-447e-9225-559c5c1439e5",
   "metadata": {},
   "source": [
    "#### in_album"
   ]
  },
  {
   "cell_type": "code",
   "execution_count": 39,
   "id": "ca937e6b-7c6b-48c1-adc4-2fe351f879ad",
   "metadata": {
    "ExecuteTime": {
     "end_time": "2023-07-13T19:48:27.988735Z",
     "start_time": "2023-07-13T19:48:27.980718Z"
    }
   },
   "outputs": [],
   "source": [
    "# DONE"
   ]
  },
  {
   "cell_type": "markdown",
   "id": "08ef4339-bc02-431d-9ebc-68a102b4b960",
   "metadata": {},
   "source": [
    "#### has_genre"
   ]
  },
  {
   "cell_type": "code",
   "execution_count": 40,
   "id": "3da02a36-b960-456a-b427-1497f7c2b007",
   "metadata": {
    "ExecuteTime": {
     "end_time": "2023-07-13T19:48:27.988773Z",
     "start_time": "2023-07-13T19:48:27.982431Z"
    }
   },
   "outputs": [],
   "source": [
    "# DONE"
   ]
  },
  {
   "cell_type": "markdown",
   "id": "e14c260b-9f17-4407-8f50-3602ad96dc83",
   "metadata": {},
   "source": [
    "#### has_micro_genre"
   ]
  },
  {
   "cell_type": "code",
   "execution_count": 41,
   "id": "6ad3c0df-8389-42d3-8ae4-73932fb20e50",
   "metadata": {
    "ExecuteTime": {
     "end_time": "2023-07-13T19:48:27.999369Z",
     "start_time": "2023-07-13T19:48:27.988696Z"
    }
   },
   "outputs": [],
   "source": [
    "# DONE"
   ]
  },
  {
   "cell_type": "markdown",
   "id": "8c40edf7-9584-4491-907e-fb907de2bc91",
   "metadata": {},
   "source": [
    "#### has_gender & lives_in"
   ]
  },
  {
   "cell_type": "code",
   "execution_count": 42,
   "id": "dbaecf22-c5e0-4e36-9086-e417df99c45d",
   "metadata": {
    "ExecuteTime": {
     "end_time": "2023-07-13T19:48:28.525818Z",
     "start_time": "2023-07-13T19:48:27.991107Z"
    }
   },
   "outputs": [
    {
     "name": "stderr",
     "output_type": "stream",
     "text": [
      "9455it [00:00, 488749.62it/s]\n"
     ]
    },
    {
     "name": "stdout",
     "output_type": "stream",
     "text": [
      "done.\n",
      "0\n",
      "353\n"
     ]
    }
   ],
   "source": [
    "# user_id, country, age, gender, creation_time\n",
    "gcounter = 0\n",
    "ccounter = 0\n",
    "with open(\"%s/users.txt\" % write_path_prefix, \"r\") as data,\\\n",
    "open(\"%s/relations/has_gender.txt\" % (path_prefix), \"w\") as f,\\\n",
    "open(\"%s/relations/lives_in.txt\" % (path_prefix), \"w\") as f2:\n",
    "    datareader = csv.reader(data)\n",
    "    \n",
    "    for i, row in tqdm(enumerate(datareader)):\n",
    "        entry = row[0].split(sep=\"\\t\")\n",
    "        if entry[3] == \"\":\n",
    "            gcounter += 1\n",
    "        else:\n",
    "            f.writelines(entry[0] + \"\\t\" + \"has_gender\" + \"\\t\" + entry[3] + \"\\n\")\n",
    "            \n",
    "        if entry[1] == \"\":\n",
    "            ccounter += 1\n",
    "        else:\n",
    "            f2.writelines(entry[0] + \"\\t\" + \"lives_in\" + \"\\t\" + entry[1] + \"\\n\")\n",
    "            \n",
    "time.sleep(0.5)\n",
    "print(\"done.\")\n",
    "print(gcounter)\n",
    "print(ccounter)"
   ]
  },
  {
   "cell_type": "markdown",
   "id": "42374ee4-3250-4d72-9e27-febd5818897a",
   "metadata": {},
   "source": [
    "#### lives_in"
   ]
  },
  {
   "cell_type": "code",
   "execution_count": 43,
   "id": "7886bf99-6a50-4bde-8fd2-23c9a13c8af7",
   "metadata": {
    "ExecuteTime": {
     "end_time": "2023-07-13T19:48:28.525942Z",
     "start_time": "2023-07-13T19:48:28.521911Z"
    }
   },
   "outputs": [],
   "source": [
    "# DONE"
   ]
  },
  {
   "cell_type": "markdown",
   "id": "dcdf922f-da6a-4117-ab32-413c716901c4",
   "metadata": {},
   "source": [
    "## Create KG File"
   ]
  },
  {
   "cell_type": "code",
   "execution_count": 44,
   "id": "73177749-fd99-4375-a4c7-6c7033b66adb",
   "metadata": {
    "ExecuteTime": {
     "end_time": "2023-07-13T19:48:30.065173Z",
     "start_time": "2023-07-13T19:48:28.524831Z"
    }
   },
   "outputs": [
    {
     "name": "stderr",
     "output_type": "stream",
     "text": [
      "lives_in.txt: 9102it [00:00, 889233.09it/s]\n",
      "in_album.txt: 111578it [00:00, 734956.00it/s]\n",
      "has_micro_genre.txt: 667024it [00:01, 632174.05it/s]\n",
      "created_by.txt: 111578it [00:00, 737339.06it/s]\n",
      "has_gender.txt: 9455it [00:00, 1127616.49it/s]\n",
      "has_genre.txt: 111578it [00:00, 728063.68it/s]\n"
     ]
    }
   ],
   "source": [
    "directory = '%s/relations' % path_prefix\n",
    " \n",
    "with open('%s/kg.txt' % write_path_prefix, \"w\") as kg:\n",
    "    for filename in os.listdir(directory):\n",
    "        f = os.path.join(directory, filename)\n",
    "        with open(f, \"r\") as rel:\n",
    "            datareader = csv.reader(rel)\n",
    "            for i, row in tqdm(enumerate(datareader), desc=filename):\n",
    "                kg.writelines(row[0] + \"\\n\")"
   ]
  },
  {
   "cell_type": "code",
   "execution_count": 45,
   "id": "ac3f3213-3491-42dc-ab39-5d462dc4ad39",
   "metadata": {
    "ExecuteTime": {
     "end_time": "2023-07-13T19:48:31.576368Z",
     "start_time": "2023-07-13T19:48:30.062634Z"
    }
   },
   "outputs": [
    {
     "name": "stderr",
     "output_type": "stream",
     "text": [
      "lives_in.txt: 9102it [00:00, 1114741.58it/s]\n",
      "in_album.txt: 111578it [00:00, 794228.60it/s]\n",
      "has_micro_genre.txt: 667024it [00:01, 634161.14it/s]\n",
      "created_by.txt: 111578it [00:00, 737804.04it/s]\n",
      "has_genre.txt: 111578it [00:00, 735411.04it/s]\n"
     ]
    }
   ],
   "source": [
    "directory = '%s/relations' % path_prefix\n",
    " \n",
    "with open('%s/kg_no_gender.txt' % write_path_prefix, \"w\") as kg:\n",
    "    for filename in os.listdir(directory):\n",
    "        if filename == 'has_gender.txt':\n",
    "            continue\n",
    "        f = os.path.join(directory, filename)\n",
    "        with open(f, \"r\") as rel:\n",
    "            datareader = csv.reader(rel)\n",
    "            for i, row in tqdm(enumerate(datareader), desc=filename):\n",
    "                kg.writelines(row[0] + \"\\n\")"
   ]
  },
  {
   "cell_type": "markdown",
   "id": "393b8ec7-1a0e-4dde-8eb3-07c4ae2cdeee",
   "metadata": {},
   "source": [
    "## Map knowledge Graph Files for further processing"
   ]
  },
  {
   "attachments": {},
   "cell_type": "markdown",
   "id": "30bfa80e-eb6f-4dd9-a26c-795b7c03801f",
   "metadata": {},
   "source": []
  },
  {
   "cell_type": "markdown",
   "id": "17c3d9f2-f1f4-4d33-8b69-e4f9034a55a4",
   "metadata": {},
   "source": [
    "### i2kg"
   ]
  },
  {
   "cell_type": "code",
   "execution_count": 46,
   "id": "70523f13-b62b-41cd-a4c7-4d23f470c328",
   "metadata": {
    "ExecuteTime": {
     "end_time": "2023-07-13T19:48:31.576742Z",
     "start_time": "2023-07-13T19:48:31.572816Z"
    }
   },
   "outputs": [],
   "source": [
    "if not os.path.exists('lfm/kg'):\n",
    "    os.makedirs('lfm/kg')"
   ]
  },
  {
   "cell_type": "code",
   "execution_count": 47,
   "id": "4cc99e3e-eb44-4d0b-9b31-4ed7b932d2cc",
   "metadata": {
    "ExecuteTime": {
     "end_time": "2023-07-13T19:48:31.690450Z",
     "start_time": "2023-07-13T19:48:31.575058Z"
    }
   },
   "outputs": [],
   "source": [
    "tracks = pd.read_csv('lfm/intermediate_kg/tracks.txt', sep='\\t', names=['pid', 'track_name'])\n",
    "tracks.insert(0, 'id', tracks['pid'].str.replace('t', ''))\n",
    "tracks = tracks.drop(['track_name'], axis=1)"
   ]
  },
  {
   "cell_type": "code",
   "execution_count": 48,
   "id": "f350bbd7-4eb9-4e06-aa45-b85fd2cd93cd",
   "metadata": {
    "ExecuteTime": {
     "end_time": "2023-07-13T19:48:31.694561Z",
     "start_time": "2023-07-13T19:48:31.691462Z"
    }
   },
   "outputs": [
    {
     "data": {
      "text/plain": "     id    pid\n0   812   t812\n1  1003  t1003\n2  4774  t4774\n3  5100  t5100\n4  9933  t9933",
      "text/html": "<div>\n<style scoped>\n    .dataframe tbody tr th:only-of-type {\n        vertical-align: middle;\n    }\n\n    .dataframe tbody tr th {\n        vertical-align: top;\n    }\n\n    .dataframe thead th {\n        text-align: right;\n    }\n</style>\n<table border=\"1\" class=\"dataframe\">\n  <thead>\n    <tr style=\"text-align: right;\">\n      <th></th>\n      <th>id</th>\n      <th>pid</th>\n    </tr>\n  </thead>\n  <tbody>\n    <tr>\n      <th>0</th>\n      <td>812</td>\n      <td>t812</td>\n    </tr>\n    <tr>\n      <th>1</th>\n      <td>1003</td>\n      <td>t1003</td>\n    </tr>\n    <tr>\n      <th>2</th>\n      <td>4774</td>\n      <td>t4774</td>\n    </tr>\n    <tr>\n      <th>3</th>\n      <td>5100</td>\n      <td>t5100</td>\n    </tr>\n    <tr>\n      <th>4</th>\n      <td>9933</td>\n      <td>t9933</td>\n    </tr>\n  </tbody>\n</table>\n</div>"
     },
     "execution_count": 48,
     "metadata": {},
     "output_type": "execute_result"
    }
   ],
   "source": [
    "tracks.head()"
   ]
  },
  {
   "cell_type": "code",
   "execution_count": 49,
   "id": "4f553ca3-8c55-4d63-ab72-6d462dd1fe0c",
   "metadata": {
    "ExecuteTime": {
     "end_time": "2023-07-13T19:48:31.784789Z",
     "start_time": "2023-07-13T19:48:31.693870Z"
    }
   },
   "outputs": [],
   "source": [
    "tracks.to_csv('lfm/kg/i2kg_map.tsv', sep='\\t', index=False)"
   ]
  },
  {
   "cell_type": "markdown",
   "id": "ff1f94bd-dc60-43a7-8c76-e48998d6fedc",
   "metadata": {},
   "source": [
    "### r_map"
   ]
  },
  {
   "cell_type": "code",
   "execution_count": 50,
   "id": "82164396-0baf-4fd4-909f-9f7a94152799",
   "metadata": {
    "ExecuteTime": {
     "end_time": "2023-07-13T19:48:32.015259Z",
     "start_time": "2023-07-13T19:48:31.779765Z"
    }
   },
   "outputs": [],
   "source": [
    "kg = pd.read_csv('lfm/intermediate_kg/kg.txt', sep='\\t', names=['head', 'relation', 'tail'])"
   ]
  },
  {
   "cell_type": "code",
   "execution_count": 51,
   "id": "57cf8f3f-b1a7-497d-9dc1-5da9d822f13b",
   "metadata": {
    "ExecuteTime": {
     "end_time": "2023-07-13T19:48:32.019248Z",
     "start_time": "2023-07-13T19:48:32.016854Z"
    }
   },
   "outputs": [
    {
     "data": {
      "text/plain": "  head  relation tail\n0   u2  lives_in   UK\n1  u14  lives_in   UK\n2  u15  lives_in   US\n3  u36  lives_in   UK\n4  u42  lives_in   RU",
      "text/html": "<div>\n<style scoped>\n    .dataframe tbody tr th:only-of-type {\n        vertical-align: middle;\n    }\n\n    .dataframe tbody tr th {\n        vertical-align: top;\n    }\n\n    .dataframe thead th {\n        text-align: right;\n    }\n</style>\n<table border=\"1\" class=\"dataframe\">\n  <thead>\n    <tr style=\"text-align: right;\">\n      <th></th>\n      <th>head</th>\n      <th>relation</th>\n      <th>tail</th>\n    </tr>\n  </thead>\n  <tbody>\n    <tr>\n      <th>0</th>\n      <td>u2</td>\n      <td>lives_in</td>\n      <td>UK</td>\n    </tr>\n    <tr>\n      <th>1</th>\n      <td>u14</td>\n      <td>lives_in</td>\n      <td>UK</td>\n    </tr>\n    <tr>\n      <th>2</th>\n      <td>u15</td>\n      <td>lives_in</td>\n      <td>US</td>\n    </tr>\n    <tr>\n      <th>3</th>\n      <td>u36</td>\n      <td>lives_in</td>\n      <td>UK</td>\n    </tr>\n    <tr>\n      <th>4</th>\n      <td>u42</td>\n      <td>lives_in</td>\n      <td>RU</td>\n    </tr>\n  </tbody>\n</table>\n</div>"
     },
     "execution_count": 51,
     "metadata": {},
     "output_type": "execute_result"
    }
   ],
   "source": [
    "kg.head()"
   ]
  },
  {
   "cell_type": "code",
   "execution_count": 52,
   "id": "dded198f-5c89-4c9a-ac78-e279ac6b686d",
   "metadata": {
    "ExecuteTime": {
     "end_time": "2023-07-13T19:48:32.071251Z",
     "start_time": "2023-07-13T19:48:32.036275Z"
    }
   },
   "outputs": [],
   "source": [
    "relations = kg.relation.unique()"
   ]
  },
  {
   "cell_type": "code",
   "execution_count": 53,
   "id": "89e0d0a6-e817-4ab1-82a4-86b1a73df702",
   "metadata": {
    "ExecuteTime": {
     "end_time": "2023-07-13T19:48:32.076137Z",
     "start_time": "2023-07-13T19:48:32.050319Z"
    }
   },
   "outputs": [
    {
     "data": {
      "text/plain": "range(0, 10)"
     },
     "execution_count": 53,
     "metadata": {},
     "output_type": "execute_result"
    }
   ],
   "source": [
    "range(10)"
   ]
  },
  {
   "cell_type": "code",
   "execution_count": 54,
   "id": "d726fe74-1a27-46b2-a5b8-ebaedcb8c508",
   "metadata": {
    "ExecuteTime": {
     "end_time": "2023-07-13T19:48:32.076199Z",
     "start_time": "2023-07-13T19:48:32.052895Z"
    }
   },
   "outputs": [],
   "source": [
    "relation_map_df = pd.DataFrame({'remap_id': range(len(relations)), 'org_id': relations})"
   ]
  },
  {
   "cell_type": "code",
   "execution_count": 55,
   "id": "13ab1a76-423d-46f7-b09f-df0248033494",
   "metadata": {
    "ExecuteTime": {
     "end_time": "2023-07-13T19:48:32.080166Z",
     "start_time": "2023-07-13T19:48:32.054298Z"
    }
   },
   "outputs": [
    {
     "data": {
      "text/plain": "   remap_id           org_id\n0         0         lives_in\n1         1         in_album\n2         2  has_micro_genre\n3         3       created_by\n4         4       has_gender\n5         5        has_genre",
      "text/html": "<div>\n<style scoped>\n    .dataframe tbody tr th:only-of-type {\n        vertical-align: middle;\n    }\n\n    .dataframe tbody tr th {\n        vertical-align: top;\n    }\n\n    .dataframe thead th {\n        text-align: right;\n    }\n</style>\n<table border=\"1\" class=\"dataframe\">\n  <thead>\n    <tr style=\"text-align: right;\">\n      <th></th>\n      <th>remap_id</th>\n      <th>org_id</th>\n    </tr>\n  </thead>\n  <tbody>\n    <tr>\n      <th>0</th>\n      <td>0</td>\n      <td>lives_in</td>\n    </tr>\n    <tr>\n      <th>1</th>\n      <td>1</td>\n      <td>in_album</td>\n    </tr>\n    <tr>\n      <th>2</th>\n      <td>2</td>\n      <td>has_micro_genre</td>\n    </tr>\n    <tr>\n      <th>3</th>\n      <td>3</td>\n      <td>created_by</td>\n    </tr>\n    <tr>\n      <th>4</th>\n      <td>4</td>\n      <td>has_gender</td>\n    </tr>\n    <tr>\n      <th>5</th>\n      <td>5</td>\n      <td>has_genre</td>\n    </tr>\n  </tbody>\n</table>\n</div>"
     },
     "execution_count": 55,
     "metadata": {},
     "output_type": "execute_result"
    }
   ],
   "source": [
    "relation_map_df"
   ]
  },
  {
   "cell_type": "code",
   "execution_count": 56,
   "id": "bc7648ae-44da-45bc-8e10-585a7fbbf6d3",
   "metadata": {
    "ExecuteTime": {
     "end_time": "2023-07-13T19:48:32.099066Z",
     "start_time": "2023-07-13T19:48:32.071424Z"
    }
   },
   "outputs": [],
   "source": [
    "relation_map_df.to_csv('lfm/kg/r_map.tsv', sep='\\t', index=False)"
   ]
  },
  {
   "cell_type": "markdown",
   "id": "1050fc32-743a-48ad-8c56-c7f2613fa003",
   "metadata": {},
   "source": [
    "### e_map"
   ]
  },
  {
   "cell_type": "code",
   "execution_count": 57,
   "id": "9f43260b-3fe8-42b1-a5e0-2a33c65efb95",
   "metadata": {
    "ExecuteTime": {
     "end_time": "2023-07-13T19:48:32.218322Z",
     "start_time": "2023-07-13T19:48:32.082027Z"
    }
   },
   "outputs": [],
   "source": [
    "entities = np.unique(np.concatenate([kg['head'].unique(), kg['tail'].unique()], axis=0))"
   ]
  },
  {
   "cell_type": "code",
   "execution_count": 58,
   "id": "a8918d46-f2f5-4e88-a143-cfc0fcd7b50e",
   "metadata": {
    "ExecuteTime": {
     "end_time": "2023-07-13T19:48:32.222421Z",
     "start_time": "2023-07-13T19:48:32.219072Z"
    }
   },
   "outputs": [
    {
     "data": {
      "text/plain": "184059"
     },
     "execution_count": 58,
     "metadata": {},
     "output_type": "execute_result"
    }
   ],
   "source": [
    "len(entities)"
   ]
  },
  {
   "cell_type": "code",
   "execution_count": 59,
   "id": "724f0f3f-74e2-437e-889f-f393a38216d8",
   "metadata": {
    "ExecuteTime": {
     "end_time": "2023-07-13T19:48:32.233881Z",
     "start_time": "2023-07-13T19:48:32.224725Z"
    }
   },
   "outputs": [],
   "source": [
    "trackids = tracks.pid.unique()"
   ]
  },
  {
   "cell_type": "code",
   "execution_count": 60,
   "id": "7a9f9bb0-20f4-4460-873e-b963e92dfafd",
   "metadata": {
    "ExecuteTime": {
     "end_time": "2023-07-13T19:48:32.237840Z",
     "start_time": "2023-07-13T19:48:32.234854Z"
    }
   },
   "outputs": [
    {
     "data": {
      "text/plain": "173788"
     },
     "execution_count": 60,
     "metadata": {},
     "output_type": "execute_result"
    }
   ],
   "source": [
    "len(tracks)"
   ]
  },
  {
   "cell_type": "code",
   "execution_count": 61,
   "id": "56488d36-b4ce-45de-bb72-6d4ff46963e1",
   "metadata": {
    "ExecuteTime": {
     "end_time": "2023-07-13T19:48:32.237916Z",
     "start_time": "2023-07-13T19:48:32.236754Z"
    }
   },
   "outputs": [],
   "source": [
    "#count = 0\n",
    "#for entity in entities:\n",
    "#    if entity in trackids:\n",
    "#        count += 1\n",
    "#count"
   ]
  },
  {
   "cell_type": "code",
   "execution_count": 62,
   "id": "3875e482-0d82-4948-9006-d75967d66afb",
   "metadata": {
    "ExecuteTime": {
     "end_time": "2023-07-13T19:48:32.258925Z",
     "start_time": "2023-07-13T19:48:32.238603Z"
    }
   },
   "outputs": [],
   "source": [
    "entities_map_df = pd.DataFrame({'new_id': range(len(entities)), 'raw_dataset_id': entities})"
   ]
  },
  {
   "cell_type": "code",
   "execution_count": 63,
   "id": "6b6bbf20-1c62-49f5-b846-9f74bcd26b14",
   "metadata": {
    "ExecuteTime": {
     "end_time": "2023-07-13T19:48:32.259528Z",
     "start_time": "2023-07-13T19:48:32.243170Z"
    }
   },
   "outputs": [
    {
     "data": {
      "text/plain": "        new_id          raw_dataset_id\n0            0  21st century classical\n1            1                   8-bit\n2            2                      8d\n3            3                      AD\n4            4                      AE\n...        ...                     ...\n184054  184054                   zeuhl\n184055  184055                  zither\n184056  184056                    zolo\n184057  184057                    zouk\n184058  184058                  zydeco\n\n[184059 rows x 2 columns]",
      "text/html": "<div>\n<style scoped>\n    .dataframe tbody tr th:only-of-type {\n        vertical-align: middle;\n    }\n\n    .dataframe tbody tr th {\n        vertical-align: top;\n    }\n\n    .dataframe thead th {\n        text-align: right;\n    }\n</style>\n<table border=\"1\" class=\"dataframe\">\n  <thead>\n    <tr style=\"text-align: right;\">\n      <th></th>\n      <th>new_id</th>\n      <th>raw_dataset_id</th>\n    </tr>\n  </thead>\n  <tbody>\n    <tr>\n      <th>0</th>\n      <td>0</td>\n      <td>21st century classical</td>\n    </tr>\n    <tr>\n      <th>1</th>\n      <td>1</td>\n      <td>8-bit</td>\n    </tr>\n    <tr>\n      <th>2</th>\n      <td>2</td>\n      <td>8d</td>\n    </tr>\n    <tr>\n      <th>3</th>\n      <td>3</td>\n      <td>AD</td>\n    </tr>\n    <tr>\n      <th>4</th>\n      <td>4</td>\n      <td>AE</td>\n    </tr>\n    <tr>\n      <th>...</th>\n      <td>...</td>\n      <td>...</td>\n    </tr>\n    <tr>\n      <th>184054</th>\n      <td>184054</td>\n      <td>zeuhl</td>\n    </tr>\n    <tr>\n      <th>184055</th>\n      <td>184055</td>\n      <td>zither</td>\n    </tr>\n    <tr>\n      <th>184056</th>\n      <td>184056</td>\n      <td>zolo</td>\n    </tr>\n    <tr>\n      <th>184057</th>\n      <td>184057</td>\n      <td>zouk</td>\n    </tr>\n    <tr>\n      <th>184058</th>\n      <td>184058</td>\n      <td>zydeco</td>\n    </tr>\n  </tbody>\n</table>\n<p>184059 rows × 2 columns</p>\n</div>"
     },
     "execution_count": 63,
     "metadata": {},
     "output_type": "execute_result"
    }
   ],
   "source": [
    "entities_map_df"
   ]
  },
  {
   "cell_type": "code",
   "execution_count": 64,
   "id": "9e34a938-2278-4708-863d-89e23c2578e9",
   "metadata": {
    "ExecuteTime": {
     "end_time": "2023-07-13T19:48:32.333Z",
     "start_time": "2023-07-13T19:48:32.245901Z"
    }
   },
   "outputs": [],
   "source": [
    "entities_map_df.to_csv('lfm/kg/e_map.tsv', sep='\\t', index=False)"
   ]
  },
  {
   "cell_type": "markdown",
   "id": "1f411a87-4dbe-4721-b1ff-f3f258c5f64d",
   "metadata": {},
   "source": [
    "### kg"
   ]
  },
  {
   "cell_type": "code",
   "execution_count": 94,
   "id": "05f18d5e-3b05-45d4-ac84-2758322bb3d3",
   "metadata": {
    "ExecuteTime": {
     "end_time": "2023-07-13T19:49:01.542305Z",
     "start_time": "2023-07-13T19:49:01.533258Z"
    }
   },
   "outputs": [
    {
     "data": {
      "text/plain": "   remap_id           org_id\n0         0         lives_in\n1         1         in_album\n2         2  has_micro_genre\n3         3       created_by\n4         4       has_gender\n5         5        has_genre",
      "text/html": "<div>\n<style scoped>\n    .dataframe tbody tr th:only-of-type {\n        vertical-align: middle;\n    }\n\n    .dataframe tbody tr th {\n        vertical-align: top;\n    }\n\n    .dataframe thead th {\n        text-align: right;\n    }\n</style>\n<table border=\"1\" class=\"dataframe\">\n  <thead>\n    <tr style=\"text-align: right;\">\n      <th></th>\n      <th>remap_id</th>\n      <th>org_id</th>\n    </tr>\n  </thead>\n  <tbody>\n    <tr>\n      <th>0</th>\n      <td>0</td>\n      <td>lives_in</td>\n    </tr>\n    <tr>\n      <th>1</th>\n      <td>1</td>\n      <td>in_album</td>\n    </tr>\n    <tr>\n      <th>2</th>\n      <td>2</td>\n      <td>has_micro_genre</td>\n    </tr>\n    <tr>\n      <th>3</th>\n      <td>3</td>\n      <td>created_by</td>\n    </tr>\n    <tr>\n      <th>4</th>\n      <td>4</td>\n      <td>has_gender</td>\n    </tr>\n    <tr>\n      <th>5</th>\n      <td>5</td>\n      <td>has_genre</td>\n    </tr>\n  </tbody>\n</table>\n</div>"
     },
     "execution_count": 94,
     "metadata": {},
     "output_type": "execute_result"
    }
   ],
   "source": [
    "relation_map_df"
   ]
  },
  {
   "cell_type": "code",
   "execution_count": 66,
   "id": "b49c12be-69c8-4e1f-a0de-6aadc19dff17",
   "metadata": {
    "ExecuteTime": {
     "end_time": "2023-07-13T19:48:32.394705Z",
     "start_time": "2023-07-13T19:48:32.333795Z"
    }
   },
   "outputs": [],
   "source": [
    "kg.relation = kg.relation.map({'lives_in': 0, 'in_album': 1, 'has_micro_genre': 2, 'created_by': 3, 'has_gender': 4, 'has_genre': 5})\n",
    "kg.relation = kg.relation.astype('int32')"
   ]
  },
  {
   "cell_type": "code",
   "execution_count": 67,
   "id": "b5961cc2-a8b7-4584-be13-457c38c9847e",
   "metadata": {
    "ExecuteTime": {
     "end_time": "2023-07-13T19:48:32.414423Z",
     "start_time": "2023-07-13T19:48:32.381522Z"
    }
   },
   "outputs": [],
   "source": [
    "kg = kg.rename(columns={'head': 'entity_head', 'tail': 'entity_tail'})"
   ]
  },
  {
   "cell_type": "code",
   "execution_count": 68,
   "id": "7e520e20-734e-4357-a909-b52e12508a30",
   "metadata": {
    "ExecuteTime": {
     "end_time": "2023-07-13T19:48:32.414556Z",
     "start_time": "2023-07-13T19:48:32.394795Z"
    }
   },
   "outputs": [
    {
     "data": {
      "text/plain": "        entity_head  relation       entity_tail\n0                u2         0                UK\n1               u14         0                UK\n2               u15         0                US\n3               u36         0                UK\n4               u42         0                RU\n...             ...       ...               ...\n1020310   t44269170         5         hardstyle\n1020311   t47732928         5               pop\n1020312   t10197045         5          flamenco\n1020313   t18331145         5  alternative rock\n1020314   t26715858         5     post-hardcore\n\n[1020315 rows x 3 columns]",
      "text/html": "<div>\n<style scoped>\n    .dataframe tbody tr th:only-of-type {\n        vertical-align: middle;\n    }\n\n    .dataframe tbody tr th {\n        vertical-align: top;\n    }\n\n    .dataframe thead th {\n        text-align: right;\n    }\n</style>\n<table border=\"1\" class=\"dataframe\">\n  <thead>\n    <tr style=\"text-align: right;\">\n      <th></th>\n      <th>entity_head</th>\n      <th>relation</th>\n      <th>entity_tail</th>\n    </tr>\n  </thead>\n  <tbody>\n    <tr>\n      <th>0</th>\n      <td>u2</td>\n      <td>0</td>\n      <td>UK</td>\n    </tr>\n    <tr>\n      <th>1</th>\n      <td>u14</td>\n      <td>0</td>\n      <td>UK</td>\n    </tr>\n    <tr>\n      <th>2</th>\n      <td>u15</td>\n      <td>0</td>\n      <td>US</td>\n    </tr>\n    <tr>\n      <th>3</th>\n      <td>u36</td>\n      <td>0</td>\n      <td>UK</td>\n    </tr>\n    <tr>\n      <th>4</th>\n      <td>u42</td>\n      <td>0</td>\n      <td>RU</td>\n    </tr>\n    <tr>\n      <th>...</th>\n      <td>...</td>\n      <td>...</td>\n      <td>...</td>\n    </tr>\n    <tr>\n      <th>1020310</th>\n      <td>t44269170</td>\n      <td>5</td>\n      <td>hardstyle</td>\n    </tr>\n    <tr>\n      <th>1020311</th>\n      <td>t47732928</td>\n      <td>5</td>\n      <td>pop</td>\n    </tr>\n    <tr>\n      <th>1020312</th>\n      <td>t10197045</td>\n      <td>5</td>\n      <td>flamenco</td>\n    </tr>\n    <tr>\n      <th>1020313</th>\n      <td>t18331145</td>\n      <td>5</td>\n      <td>alternative rock</td>\n    </tr>\n    <tr>\n      <th>1020314</th>\n      <td>t26715858</td>\n      <td>5</td>\n      <td>post-hardcore</td>\n    </tr>\n  </tbody>\n</table>\n<p>1020315 rows × 3 columns</p>\n</div>"
     },
     "execution_count": 68,
     "metadata": {},
     "output_type": "execute_result"
    }
   ],
   "source": [
    "kg"
   ]
  },
  {
   "cell_type": "code",
   "execution_count": 69,
   "id": "b4149480-4d01-4bf2-9eb0-9f84835df88a",
   "metadata": {
    "ExecuteTime": {
     "end_time": "2023-07-13T19:48:33.275602Z",
     "start_time": "2023-07-13T19:48:32.398349Z"
    }
   },
   "outputs": [],
   "source": [
    "kg.to_csv('lfm/kg/kg.tsv', index=False, sep='\\t')"
   ]
  },
  {
   "cell_type": "markdown",
   "id": "0e5c4f1b-f431-48c4-b0da-9e1a7bfe3cd3",
   "metadata": {},
   "source": [
    "## Now convert kg and files to the standard format presented in the paper"
   ]
  },
  {
   "cell_type": "code",
   "execution_count": 70,
   "id": "f1607b58-4c46-493a-8fe2-0b6650671897",
   "metadata": {
    "ExecuteTime": {
     "end_time": "2023-07-13T19:48:33.275835Z",
     "start_time": "2023-07-13T19:48:33.274192Z"
    }
   },
   "outputs": [],
   "source": [
    "if not os.path.exists('lfm/preprocessed'):\n",
    "    os.makedirs('lfm/preprocessed')"
   ]
  },
  {
   "cell_type": "markdown",
   "id": "1ed4a8ce-0b45-48b3-af3a-af67915d4133",
   "metadata": {},
   "source": [
    "#### Users"
   ]
  },
  {
   "cell_type": "code",
   "execution_count": 71,
   "id": "8b8aa36c-2eda-4afc-a930-0586b087b04a",
   "metadata": {
    "ExecuteTime": {
     "end_time": "2023-07-13T19:48:33.275998Z",
     "start_time": "2023-07-13T19:48:33.274494Z"
    }
   },
   "outputs": [
    {
     "data": {
      "text/plain": "   user_id country  age gender        creation_time\n0        2      UK   35      m  2002-10-29 01:00:00\n1       14      UK   48      m  2003-02-18 21:44:13\n2       15      US   28      m  2003-02-24 03:30:33\n3       36      UK   29      m  2003-03-27 12:17:12\n4       42      RU   30      m  2003-04-10 01:07:48",
      "text/html": "<div>\n<style scoped>\n    .dataframe tbody tr th:only-of-type {\n        vertical-align: middle;\n    }\n\n    .dataframe tbody tr th {\n        vertical-align: top;\n    }\n\n    .dataframe thead th {\n        text-align: right;\n    }\n</style>\n<table border=\"1\" class=\"dataframe\">\n  <thead>\n    <tr style=\"text-align: right;\">\n      <th></th>\n      <th>user_id</th>\n      <th>country</th>\n      <th>age</th>\n      <th>gender</th>\n      <th>creation_time</th>\n    </tr>\n  </thead>\n  <tbody>\n    <tr>\n      <th>0</th>\n      <td>2</td>\n      <td>UK</td>\n      <td>35</td>\n      <td>m</td>\n      <td>2002-10-29 01:00:00</td>\n    </tr>\n    <tr>\n      <th>1</th>\n      <td>14</td>\n      <td>UK</td>\n      <td>48</td>\n      <td>m</td>\n      <td>2003-02-18 21:44:13</td>\n    </tr>\n    <tr>\n      <th>2</th>\n      <td>15</td>\n      <td>US</td>\n      <td>28</td>\n      <td>m</td>\n      <td>2003-02-24 03:30:33</td>\n    </tr>\n    <tr>\n      <th>3</th>\n      <td>36</td>\n      <td>UK</td>\n      <td>29</td>\n      <td>m</td>\n      <td>2003-03-27 12:17:12</td>\n    </tr>\n    <tr>\n      <th>4</th>\n      <td>42</td>\n      <td>RU</td>\n      <td>30</td>\n      <td>m</td>\n      <td>2003-04-10 01:07:48</td>\n    </tr>\n  </tbody>\n</table>\n</div>"
     },
     "execution_count": 71,
     "metadata": {},
     "output_type": "execute_result"
    }
   ],
   "source": [
    "users = pd.read_csv('lfm/cleaned/users.tsv', sep='\\t')\n",
    "users.head()"
   ]
  },
  {
   "cell_type": "code",
   "execution_count": 72,
   "id": "31be312c-16d2-41fd-9a25-898d411875e6",
   "metadata": {
    "ExecuteTime": {
     "end_time": "2023-07-13T19:48:33.276098Z",
     "start_time": "2023-07-13T19:48:33.275703Z"
    }
   },
   "outputs": [],
   "source": [
    "users = users.drop(['country', 'age', 'gender','creation_time'], axis=1)\n",
    "users.insert(0, 'new_id', range(users.shape[0]))\n",
    "users.to_csv('lfm/preprocessed/users.txt', header=[\"new_id\", \"raw_dataset_id\"], index=False, sep='\\t', mode='w+')"
   ]
  },
  {
   "cell_type": "code",
   "execution_count": 73,
   "id": "8db5c9b8-0dc0-465c-8fad-0ee0152d94cd",
   "metadata": {
    "ExecuteTime": {
     "end_time": "2023-07-13T19:48:33.276150Z",
     "start_time": "2023-07-13T19:48:33.275808Z"
    }
   },
   "outputs": [],
   "source": [
    "user_id2new_id = dict(zip(users[\"user_id\"], users[\"new_id\"]))"
   ]
  },
  {
   "cell_type": "markdown",
   "id": "98da35c9-fa11-44f7-a269-7c8f5c8a9b97",
   "metadata": {},
   "source": [
    "#### Tracks"
   ]
  },
  {
   "cell_type": "code",
   "execution_count": 74,
   "id": "7850bb2a-c0f1-4160-b6a3-67eb3e70dcbd",
   "metadata": {
    "ExecuteTime": {
     "end_time": "2023-07-13T19:48:33.276246Z",
     "start_time": "2023-07-13T19:48:33.275868Z"
    }
   },
   "outputs": [
    {
     "data": {
      "text/plain": "   track_id               artist                track\n0       812        Billie Eilish              !!!!!!!\n1      1003       Dillinger Four  !!Noble Stabbings!!\n2      4774  The Gaslight Anthem                   45\n3      5100       Barns Courtney                   99\n4      9933         Theo Katzman                 Best",
      "text/html": "<div>\n<style scoped>\n    .dataframe tbody tr th:only-of-type {\n        vertical-align: middle;\n    }\n\n    .dataframe tbody tr th {\n        vertical-align: top;\n    }\n\n    .dataframe thead th {\n        text-align: right;\n    }\n</style>\n<table border=\"1\" class=\"dataframe\">\n  <thead>\n    <tr style=\"text-align: right;\">\n      <th></th>\n      <th>track_id</th>\n      <th>artist</th>\n      <th>track</th>\n    </tr>\n  </thead>\n  <tbody>\n    <tr>\n      <th>0</th>\n      <td>812</td>\n      <td>Billie Eilish</td>\n      <td>!!!!!!!</td>\n    </tr>\n    <tr>\n      <th>1</th>\n      <td>1003</td>\n      <td>Dillinger Four</td>\n      <td>!!Noble Stabbings!!</td>\n    </tr>\n    <tr>\n      <th>2</th>\n      <td>4774</td>\n      <td>The Gaslight Anthem</td>\n      <td>45</td>\n    </tr>\n    <tr>\n      <th>3</th>\n      <td>5100</td>\n      <td>Barns Courtney</td>\n      <td>99</td>\n    </tr>\n    <tr>\n      <th>4</th>\n      <td>9933</td>\n      <td>Theo Katzman</td>\n      <td>Best</td>\n    </tr>\n  </tbody>\n</table>\n</div>"
     },
     "execution_count": 74,
     "metadata": {},
     "output_type": "execute_result"
    }
   ],
   "source": [
    "tracks = pd.read_csv('lfm/cleaned/tracks.tsv', sep='\\t')\n",
    "tracks.head()"
   ]
  },
  {
   "cell_type": "code",
   "execution_count": 75,
   "id": "30d2868e-dabe-49ac-8565-0f1c06bef283",
   "metadata": {
    "ExecuteTime": {
     "end_time": "2023-07-13T19:48:33.281097Z",
     "start_time": "2023-07-13T19:48:33.276271Z"
    }
   },
   "outputs": [],
   "source": [
    "tracks = tracks.drop(['artist', 'track'], axis=1)\n",
    "tracks.insert(0, 'new_id', range(tracks.shape[0])) #Create a new incremental ID"
   ]
  },
  {
   "cell_type": "code",
   "execution_count": 76,
   "id": "816f2601-f974-4b6b-923d-5e1e7678c637",
   "metadata": {
    "ExecuteTime": {
     "end_time": "2023-07-13T19:48:33.281186Z",
     "start_time": "2023-07-13T19:48:33.276332Z"
    }
   },
   "outputs": [],
   "source": [
    "tracks.to_csv('lfm/preprocessed/products.txt', header=[\"new_id\", \"raw_dataset_id\"], index=False, sep='\\t', mode='w+')"
   ]
  },
  {
   "cell_type": "code",
   "execution_count": 77,
   "id": "0c49c04b-8918-45cb-b85e-4bb7f569cf16",
   "metadata": {
    "ExecuteTime": {
     "end_time": "2023-07-13T19:48:33.281234Z",
     "start_time": "2023-07-13T19:48:33.276385Z"
    }
   },
   "outputs": [],
   "source": [
    "song_id2new_id = dict(zip(tracks[\"track_id\"], tracks['new_id']))"
   ]
  },
  {
   "cell_type": "markdown",
   "id": "3c1b0027-0651-481a-b25a-2c60694d9704",
   "metadata": {},
   "source": [
    "#### Ratings"
   ]
  },
  {
   "cell_type": "code",
   "execution_count": 78,
   "id": "366f70c1-0135-4a98-9223-0af99435e4c2",
   "metadata": {
    "ExecuteTime": {
     "end_time": "2023-07-13T19:48:34.060412Z",
     "start_time": "2023-07-13T19:48:33.276446Z"
    }
   },
   "outputs": [
    {
     "data": {
      "text/plain": "   user_id  track_id   timestamp\n0    16026  40012596  1577833201\n1    42410  14250568  1577833201\n2    39972  33291229  1577833201\n3     7744  18394900  1577833202\n4    14807  21889387  1577833203",
      "text/html": "<div>\n<style scoped>\n    .dataframe tbody tr th:only-of-type {\n        vertical-align: middle;\n    }\n\n    .dataframe tbody tr th {\n        vertical-align: top;\n    }\n\n    .dataframe thead th {\n        text-align: right;\n    }\n</style>\n<table border=\"1\" class=\"dataframe\">\n  <thead>\n    <tr style=\"text-align: right;\">\n      <th></th>\n      <th>user_id</th>\n      <th>track_id</th>\n      <th>timestamp</th>\n    </tr>\n  </thead>\n  <tbody>\n    <tr>\n      <th>0</th>\n      <td>16026</td>\n      <td>40012596</td>\n      <td>1577833201</td>\n    </tr>\n    <tr>\n      <th>1</th>\n      <td>42410</td>\n      <td>14250568</td>\n      <td>1577833201</td>\n    </tr>\n    <tr>\n      <th>2</th>\n      <td>39972</td>\n      <td>33291229</td>\n      <td>1577833201</td>\n    </tr>\n    <tr>\n      <th>3</th>\n      <td>7744</td>\n      <td>18394900</td>\n      <td>1577833202</td>\n    </tr>\n    <tr>\n      <th>4</th>\n      <td>14807</td>\n      <td>21889387</td>\n      <td>1577833203</td>\n    </tr>\n  </tbody>\n</table>\n</div>"
     },
     "execution_count": 78,
     "metadata": {},
     "output_type": "execute_result"
    }
   ],
   "source": [
    "interactions = pd.read_csv('lfm/cleaned/listening_events.tsv', sep='\\t')\n",
    "interactions = interactions.drop(['album_id'], axis=1)\n",
    "interactions.head()"
   ]
  },
  {
   "cell_type": "code",
   "execution_count": 79,
   "id": "70e8b7eb-7d88-4d57-ba13-3670f51ac005",
   "metadata": {
    "ExecuteTime": {
     "end_time": "2023-07-13T19:48:34.060694Z",
     "start_time": "2023-07-13T19:48:34.060281Z"
    }
   },
   "outputs": [],
   "source": [
    "interactions.insert(2, 'rating', np.ones(len(interactions)))\n",
    "interactions.rating = interactions.rating.astype('int32')"
   ]
  },
  {
   "cell_type": "code",
   "execution_count": 80,
   "id": "33c7e7b2-d5eb-4f0e-beb6-bec437edfa7d",
   "metadata": {
    "ExecuteTime": {
     "end_time": "2023-07-13T19:48:34.199176Z",
     "start_time": "2023-07-13T19:48:34.060657Z"
    }
   },
   "outputs": [],
   "source": [
    "interactions[\"user_id\"] = interactions['user_id'].map(user_id2new_id)\n",
    "interactions[\"track_id\"] = interactions['track_id'].map(song_id2new_id)"
   ]
  },
  {
   "cell_type": "code",
   "execution_count": 81,
   "id": "2cbf9e9c-ee04-4f77-bf10-e777ef026dc5",
   "metadata": {
    "ExecuteTime": {
     "end_time": "2023-07-13T19:48:34.203825Z",
     "start_time": "2023-07-13T19:48:34.200618Z"
    }
   },
   "outputs": [
    {
     "data": {
      "text/plain": "   user_id  track_id  rating   timestamp\n0     3629    143241       1  1577833201\n1     6820     44969       1  1577833201\n2     6678    116353       1  1577833201\n3     2027     62386       1  1577833202\n4     3419     75699       1  1577833203",
      "text/html": "<div>\n<style scoped>\n    .dataframe tbody tr th:only-of-type {\n        vertical-align: middle;\n    }\n\n    .dataframe tbody tr th {\n        vertical-align: top;\n    }\n\n    .dataframe thead th {\n        text-align: right;\n    }\n</style>\n<table border=\"1\" class=\"dataframe\">\n  <thead>\n    <tr style=\"text-align: right;\">\n      <th></th>\n      <th>user_id</th>\n      <th>track_id</th>\n      <th>rating</th>\n      <th>timestamp</th>\n    </tr>\n  </thead>\n  <tbody>\n    <tr>\n      <th>0</th>\n      <td>3629</td>\n      <td>143241</td>\n      <td>1</td>\n      <td>1577833201</td>\n    </tr>\n    <tr>\n      <th>1</th>\n      <td>6820</td>\n      <td>44969</td>\n      <td>1</td>\n      <td>1577833201</td>\n    </tr>\n    <tr>\n      <th>2</th>\n      <td>6678</td>\n      <td>116353</td>\n      <td>1</td>\n      <td>1577833201</td>\n    </tr>\n    <tr>\n      <th>3</th>\n      <td>2027</td>\n      <td>62386</td>\n      <td>1</td>\n      <td>1577833202</td>\n    </tr>\n    <tr>\n      <th>4</th>\n      <td>3419</td>\n      <td>75699</td>\n      <td>1</td>\n      <td>1577833203</td>\n    </tr>\n  </tbody>\n</table>\n</div>"
     },
     "execution_count": 81,
     "metadata": {},
     "output_type": "execute_result"
    }
   ],
   "source": [
    "interactions.head()"
   ]
  },
  {
   "cell_type": "code",
   "execution_count": 82,
   "id": "e5351d69-fa0b-49ab-8813-57896c36e2f6",
   "metadata": {
    "ExecuteTime": {
     "end_time": "2023-07-13T19:48:37.256985Z",
     "start_time": "2023-07-13T19:48:34.203099Z"
    }
   },
   "outputs": [],
   "source": [
    "interactions.to_csv('lfm/preprocessed/ratings.txt', header=[\"uid\", \"pid\", \"rating\", \"timestamp\"], index=False, sep='\\t', mode='w+')"
   ]
  },
  {
   "cell_type": "markdown",
   "id": "0f54c650-56eb-4035-b69a-e6ce25c77279",
   "metadata": {},
   "source": [
    "### KG"
   ]
  },
  {
   "cell_type": "markdown",
   "id": "cbd43ce2-d58a-4562-b7cf-16bcf79907a4",
   "metadata": {},
   "source": [
    "Set Tracks to be the relation heads and remove entity2entity and song2song relations"
   ]
  },
  {
   "cell_type": "code",
   "execution_count": 83,
   "id": "b5a6e338-1fe6-44ea-8991-9165b6b5c4b9",
   "metadata": {
    "ExecuteTime": {
     "end_time": "2023-07-13T19:48:37.490689Z",
     "start_time": "2023-07-13T19:48:37.256091Z"
    }
   },
   "outputs": [],
   "source": [
    "songs_to_kg_df = pd.read_csv('lfm/kg/i2kg_map.tsv', sep='\\t')\n",
    "kg_df = pd.read_csv('lfm/kg/kg.tsv', sep='\\t')"
   ]
  },
  {
   "cell_type": "code",
   "execution_count": 84,
   "id": "c9ac86e3-f50b-469c-a21d-07f4756af4c0",
   "metadata": {
    "ExecuteTime": {
     "end_time": "2023-07-13T19:48:37.493738Z",
     "start_time": "2023-07-13T19:48:37.492214Z"
    }
   },
   "outputs": [
    {
     "data": {
      "text/plain": "     id    pid\n0   812   t812\n1  1003  t1003\n2  4774  t4774\n3  5100  t5100\n4  9933  t9933",
      "text/html": "<div>\n<style scoped>\n    .dataframe tbody tr th:only-of-type {\n        vertical-align: middle;\n    }\n\n    .dataframe tbody tr th {\n        vertical-align: top;\n    }\n\n    .dataframe thead th {\n        text-align: right;\n    }\n</style>\n<table border=\"1\" class=\"dataframe\">\n  <thead>\n    <tr style=\"text-align: right;\">\n      <th></th>\n      <th>id</th>\n      <th>pid</th>\n    </tr>\n  </thead>\n  <tbody>\n    <tr>\n      <th>0</th>\n      <td>812</td>\n      <td>t812</td>\n    </tr>\n    <tr>\n      <th>1</th>\n      <td>1003</td>\n      <td>t1003</td>\n    </tr>\n    <tr>\n      <th>2</th>\n      <td>4774</td>\n      <td>t4774</td>\n    </tr>\n    <tr>\n      <th>3</th>\n      <td>5100</td>\n      <td>t5100</td>\n    </tr>\n    <tr>\n      <th>4</th>\n      <td>9933</td>\n      <td>t9933</td>\n    </tr>\n  </tbody>\n</table>\n</div>"
     },
     "execution_count": 84,
     "metadata": {},
     "output_type": "execute_result"
    }
   ],
   "source": [
    "songs_to_kg_df.head()"
   ]
  },
  {
   "cell_type": "code",
   "execution_count": 85,
   "id": "6727b946-669b-426d-84bb-aa25b7f6da96",
   "metadata": {
    "ExecuteTime": {
     "end_time": "2023-07-13T19:48:37.616151Z",
     "start_time": "2023-07-13T19:48:37.593775Z"
    }
   },
   "outputs": [],
   "source": [
    "mask = kg_df['entity_tail'].isin(songs_to_kg_df.pid) \\\n",
    "        & ~kg_df['entity_head'].isin(songs_to_kg_df.pid)\n",
    "kg_df.loc[mask, ['entity_head', 'entity_tail']] = \\\n",
    "    (kg_df.loc[mask, ['entity_tail', 'entity_head']].values)"
   ]
  },
  {
   "cell_type": "code",
   "execution_count": 86,
   "id": "93b105c8-bdb4-44ba-89e9-7809492ab887",
   "metadata": {
    "scrolled": true,
    "ExecuteTime": {
     "end_time": "2023-07-13T19:48:37.717806Z",
     "start_time": "2023-07-13T19:48:37.693136Z"
    }
   },
   "outputs": [
    {
     "data": {
      "text/plain": "     entity_head  relation entity_tail\n9102   t31469731         1    b4202003\n9103   t11520441         1   b14810089\n9104   t36346257         1   b13466481\n9105   t13847831         1   b20080443\n9106   t24342900         1   b17789042",
      "text/html": "<div>\n<style scoped>\n    .dataframe tbody tr th:only-of-type {\n        vertical-align: middle;\n    }\n\n    .dataframe tbody tr th {\n        vertical-align: top;\n    }\n\n    .dataframe thead th {\n        text-align: right;\n    }\n</style>\n<table border=\"1\" class=\"dataframe\">\n  <thead>\n    <tr style=\"text-align: right;\">\n      <th></th>\n      <th>entity_head</th>\n      <th>relation</th>\n      <th>entity_tail</th>\n    </tr>\n  </thead>\n  <tbody>\n    <tr>\n      <th>9102</th>\n      <td>t31469731</td>\n      <td>1</td>\n      <td>b4202003</td>\n    </tr>\n    <tr>\n      <th>9103</th>\n      <td>t11520441</td>\n      <td>1</td>\n      <td>b14810089</td>\n    </tr>\n    <tr>\n      <th>9104</th>\n      <td>t36346257</td>\n      <td>1</td>\n      <td>b13466481</td>\n    </tr>\n    <tr>\n      <th>9105</th>\n      <td>t13847831</td>\n      <td>1</td>\n      <td>b20080443</td>\n    </tr>\n    <tr>\n      <th>9106</th>\n      <td>t24342900</td>\n      <td>1</td>\n      <td>b17789042</td>\n    </tr>\n  </tbody>\n</table>\n</div>"
     },
     "metadata": {},
     "output_type": "display_data"
    },
    {
     "name": "stdout",
     "output_type": "stream",
     "text": [
      "Number of triplets before: 1020315\n",
      "Number of triplets after: 1001758\n"
     ]
    }
   ],
   "source": [
    "n_of_triplets = kg_df.shape[0]\n",
    "kg_df = kg_df[(kg_df['entity_head'].isin(songs_to_kg_df.pid) & ~kg_df['entity_tail'].isin(songs_to_kg_df.pid))]\n",
    "display(kg_df.head(5))\n",
    "print(f\"Number of triplets before: {n_of_triplets}\")\n",
    "print(f\"Number of triplets after: {kg_df.shape[0]}\")"
   ]
  },
  {
   "cell_type": "code",
   "execution_count": 87,
   "id": "37620332-6515-4c6e-a8af-252fe93f8028",
   "metadata": {
    "ExecuteTime": {
     "end_time": "2023-07-13T19:48:37.722836Z",
     "start_time": "2023-07-13T19:48:37.716533Z"
    }
   },
   "outputs": [
    {
     "data": {
      "text/plain": "4"
     },
     "execution_count": 87,
     "metadata": {},
     "output_type": "execute_result"
    }
   ],
   "source": [
    "len(kg_df['relation'].unique())"
   ]
  },
  {
   "cell_type": "code",
   "execution_count": 88,
   "id": "bec3f03c-bee2-4792-a1c4-584286b168b2",
   "metadata": {
    "ExecuteTime": {
     "end_time": "2023-07-13T19:48:37.765112Z",
     "start_time": "2023-07-13T19:48:37.726583Z"
    }
   },
   "outputs": [
    {
     "data": {
      "text/plain": "     entity_head  relation entity_tail\n9102   t31469731         1    b4202003\n9103   t11520441         1   b14810089\n9104   t36346257         1   b13466481\n9105   t13847831         1   b20080443\n9106   t24342900         1   b17789042",
      "text/html": "<div>\n<style scoped>\n    .dataframe tbody tr th:only-of-type {\n        vertical-align: middle;\n    }\n\n    .dataframe tbody tr th {\n        vertical-align: top;\n    }\n\n    .dataframe thead th {\n        text-align: right;\n    }\n</style>\n<table border=\"1\" class=\"dataframe\">\n  <thead>\n    <tr style=\"text-align: right;\">\n      <th></th>\n      <th>entity_head</th>\n      <th>relation</th>\n      <th>entity_tail</th>\n    </tr>\n  </thead>\n  <tbody>\n    <tr>\n      <th>9102</th>\n      <td>t31469731</td>\n      <td>1</td>\n      <td>b4202003</td>\n    </tr>\n    <tr>\n      <th>9103</th>\n      <td>t11520441</td>\n      <td>1</td>\n      <td>b14810089</td>\n    </tr>\n    <tr>\n      <th>9104</th>\n      <td>t36346257</td>\n      <td>1</td>\n      <td>b13466481</td>\n    </tr>\n    <tr>\n      <th>9105</th>\n      <td>t13847831</td>\n      <td>1</td>\n      <td>b20080443</td>\n    </tr>\n    <tr>\n      <th>9106</th>\n      <td>t24342900</td>\n      <td>1</td>\n      <td>b17789042</td>\n    </tr>\n  </tbody>\n</table>\n</div>"
     },
     "metadata": {},
     "output_type": "display_data"
    },
    {
     "name": "stdout",
     "output_type": "stream",
     "text": [
      "Number of triplets before: 1001758\n",
      "Number of triplets after: 1001758\n"
     ]
    }
   ],
   "source": [
    "v = kg_df[['relation']]\n",
    "n_of_triplets = kg_df.shape[0]\n",
    "kg_df = kg_df[v.replace(v.apply(pd.Series.value_counts)).gt(100).all(1)]\n",
    "display(kg_df.head(5))\n",
    "print(f\"Number of triplets before: {n_of_triplets}\")\n",
    "print(f\"Number of triplets after: {kg_df.shape[0]}\")"
   ]
  },
  {
   "cell_type": "markdown",
   "id": "cae9d884-8128-4e58-8ea9-db6a2589edd2",
   "metadata": {},
   "source": [
    "Store all other kg files in a new format"
   ]
  },
  {
   "cell_type": "code",
   "execution_count": 89,
   "id": "f8ef91c7-07c2-4f22-86f2-21bcda10af0a",
   "metadata": {
    "ExecuteTime": {
     "end_time": "2023-07-13T19:48:37.769483Z",
     "start_time": "2023-07-13T19:48:37.754369Z"
    }
   },
   "outputs": [],
   "source": [
    "relations_map = pd.read_csv('lfm/kg/r_map.tsv', sep='\\t')\n",
    "relations_map.to_csv('lfm/preprocessed/r_map.txt', header=['relation_id', 'relation_url'], index=False, sep='\\t', mode='w+')"
   ]
  },
  {
   "cell_type": "code",
   "execution_count": 90,
   "id": "dcd47c3e-10b2-43f0-86bc-a6fbbfc19b9b",
   "metadata": {
    "ExecuteTime": {
     "end_time": "2023-07-13T19:48:37.883237Z",
     "start_time": "2023-07-13T19:48:37.757406Z"
    }
   },
   "outputs": [],
   "source": [
    "entities_map = pd.read_csv('lfm/kg/e_map.tsv', sep='\\t')\n",
    "entities_map.to_csv('lfm/preprocessed/e_map.txt', header=['entity_id', 'entity_url'], index=False, sep='\\t', mode='w+')"
   ]
  },
  {
   "cell_type": "code",
   "execution_count": 91,
   "id": "d8a973e6-d36b-48f0-9baf-f284085d4dcd",
   "metadata": {
    "ExecuteTime": {
     "end_time": "2023-07-13T19:48:37.971182Z",
     "start_time": "2023-07-13T19:48:37.883733Z"
    }
   },
   "outputs": [],
   "source": [
    "songs_to_kg_df.to_csv('lfm/preprocessed/i2kg_map.txt', header=[\"dataset_id\", 'entity_id'], index=False, sep='\\t', mode='w+')"
   ]
  },
  {
   "cell_type": "code",
   "execution_count": 92,
   "id": "fb594e34-adf8-43b7-8b80-8e8ff18580b0",
   "metadata": {
    "ExecuteTime": {
     "end_time": "2023-07-13T19:48:38.746225Z",
     "start_time": "2023-07-13T19:48:37.972205Z"
    }
   },
   "outputs": [
    {
     "data": {
      "text/plain": "     entity_head entity_tail  relation\n9102   t31469731    b4202003         1\n9103   t11520441   b14810089         1\n9104   t36346257   b13466481         1\n9105   t13847831   b20080443         1\n9106   t24342900   b17789042         1",
      "text/html": "<div>\n<style scoped>\n    .dataframe tbody tr th:only-of-type {\n        vertical-align: middle;\n    }\n\n    .dataframe tbody tr th {\n        vertical-align: top;\n    }\n\n    .dataframe thead th {\n        text-align: right;\n    }\n</style>\n<table border=\"1\" class=\"dataframe\">\n  <thead>\n    <tr style=\"text-align: right;\">\n      <th></th>\n      <th>entity_head</th>\n      <th>entity_tail</th>\n      <th>relation</th>\n    </tr>\n  </thead>\n  <tbody>\n    <tr>\n      <th>9102</th>\n      <td>t31469731</td>\n      <td>b4202003</td>\n      <td>1</td>\n    </tr>\n    <tr>\n      <th>9103</th>\n      <td>t11520441</td>\n      <td>b14810089</td>\n      <td>1</td>\n    </tr>\n    <tr>\n      <th>9104</th>\n      <td>t36346257</td>\n      <td>b13466481</td>\n      <td>1</td>\n    </tr>\n    <tr>\n      <th>9105</th>\n      <td>t13847831</td>\n      <td>b20080443</td>\n      <td>1</td>\n    </tr>\n    <tr>\n      <th>9106</th>\n      <td>t24342900</td>\n      <td>b17789042</td>\n      <td>1</td>\n    </tr>\n  </tbody>\n</table>\n</div>"
     },
     "metadata": {},
     "output_type": "display_data"
    }
   ],
   "source": [
    "cols = [\"entity_head\", \"entity_tail\", \"relation\"]\n",
    "kg_df = kg_df[cols]\n",
    "display(kg_df.head(5))\n",
    "kg_df.to_csv('lfm/preprocessed/kg_final.txt', header=[\"entity_head\", \"entity_tail\", 'relation'],\n",
    "             index=False, sep='\\t', mode='w+')"
   ]
  },
  {
   "cell_type": "markdown",
   "id": "677f8938-be1e-4155-b6bd-59f01e1ed448",
   "metadata": {},
   "source": [
    "# Create the dataset files for RecBole"
   ]
  },
  {
   "cell_type": "markdown",
   "id": "53c2d31b-9ccc-4911-9e60-5f5ea6555e01",
   "metadata": {},
   "source": [
    "### Dataset structure\n",
    "Recbole knowledge aware datasets require three files: .inter, .g, .link files. \n",
    "\n",
    "| File | Description |\n",
    "|------|-------------|\n",
    "|.inter|User-Item interaction|\n",
    "|.kg| head, relation, tail|\n",
    "|.link|item_id to entity_id|"
   ]
  },
  {
   "cell_type": "markdown",
   "id": "03910878-779a-44ee-b8ab-a03c6b45fa35",
   "metadata": {},
   "source": [
    "## Create atomic files"
   ]
  },
  {
   "cell_type": "markdown",
   "id": "99db51bc-ada7-49c0-b063-ad4b9a7b2840",
   "metadata": {},
   "source": [
    " Add type info to kg generated by David"
   ]
  },
  {
   "cell_type": "code",
   "execution_count": 93,
   "id": "ef265d02-03c3-4981-89f5-12a4d01df57e",
   "metadata": {
    "ExecuteTime": {
     "end_time": "2023-07-13T19:48:38.889168Z",
     "start_time": "2023-07-13T19:48:38.746371Z"
    }
   },
   "outputs": [
    {
     "ename": "NameError",
     "evalue": "name 'name' is not defined",
     "output_type": "error",
     "traceback": [
      "\u001B[0;31m---------------------------------------------------------------------------\u001B[0m",
      "\u001B[0;31mNameError\u001B[0m                                 Traceback (most recent call last)",
      "Cell \u001B[0;32mIn[93], line 1\u001B[0m\n\u001B[0;32m----> 1\u001B[0m dataset \u001B[38;5;241m=\u001B[39m \u001B[43mname\u001B[49m\n\u001B[1;32m      2\u001B[0m path \u001B[38;5;241m=\u001B[39m \u001B[38;5;124m'\u001B[39m\u001B[38;5;124mdata/lfm\u001B[39m\u001B[38;5;124m'\u001B[39m\n\u001B[1;32m      3\u001B[0m kg_path \u001B[38;5;241m=\u001B[39m \u001B[38;5;124m'\u001B[39m\u001B[38;5;132;01m%s\u001B[39;00m\u001B[38;5;124m/intermediate_kg/\u001B[39m\u001B[38;5;132;01m%s\u001B[39;00m\u001B[38;5;124m'\u001B[39m \u001B[38;5;241m%\u001B[39m (path, dataset)\n",
      "\u001B[0;31mNameError\u001B[0m: name 'name' is not defined"
     ]
    }
   ],
   "source": [
    "dataset = name\n",
    "path = 'data/lfm'\n",
    "kg_path = '%s/intermediate_kg/%s' % (path, dataset)\n",
    "prefixed_path = '%s/%s' % (path,dataset)"
   ]
  },
  {
   "cell_type": "code",
   "execution_count": null,
   "id": "af22a812-5725-46ed-a4fb-e8b16e98aec6",
   "metadata": {
    "ExecuteTime": {
     "start_time": "2023-07-13T19:48:38.879778Z"
    }
   },
   "outputs": [],
   "source": [
    "kg = pd.read_csv('%s_kg.txt' % kg_path, sep='\\t', names=['head_id:token', 'relation_id:token', 'tail_id:token'])"
   ]
  },
  {
   "cell_type": "code",
   "execution_count": null,
   "id": "355b71a7-8eb1-48d1-9332-047dad7cd819",
   "metadata": {
    "ExecuteTime": {
     "start_time": "2023-07-13T19:48:38.880732Z"
    }
   },
   "outputs": [],
   "source": [
    "kg.head()"
   ]
  },
  {
   "cell_type": "code",
   "execution_count": null,
   "id": "3d8349b6-ee68-461a-a936-1b2edd0d1f78",
   "metadata": {
    "ExecuteTime": {
     "start_time": "2023-07-13T19:48:38.881810Z"
    }
   },
   "outputs": [],
   "source": [
    "kg['relation_id:token'].unique()"
   ]
  },
  {
   "cell_type": "code",
   "execution_count": null,
   "id": "c02f7d6a-8926-462c-8a53-43beaa37c82b",
   "metadata": {
    "ExecuteTime": {
     "start_time": "2023-07-13T19:48:38.882822Z"
    }
   },
   "outputs": [],
   "source": [
    "kg_no_listen_events = kg[kg['relation_id:token'] != 'listened_to']\n",
    "kg_no_listen_events.to_csv('data/rb_lfm/rb_lfm.kg', sep='\\t', index=False)"
   ]
  },
  {
   "cell_type": "code",
   "execution_count": null,
   "id": "4a9c4731-e4ea-4665-943d-8ae705611d4f",
   "metadata": {
    "ExecuteTime": {
     "start_time": "2023-07-13T19:48:38.883845Z"
    }
   },
   "outputs": [],
   "source": [
    "users = pd.read_csv('%s_users.tsv' % prefixed_path, sep='\\t', skiprows=[0], names=['user_id:token', 'country:token', 'age:token', 'gender:token', 'creation_time:token'])\n",
    "users.to_csv('data/rb_lfm/rb_lfm.user', sep='\\t', index=False)"
   ]
  },
  {
   "cell_type": "code",
   "execution_count": null,
   "id": "8267e194-e516-4118-89ba-03f65311f066",
   "metadata": {
    "ExecuteTime": {
     "start_time": "2023-07-13T19:48:38.884464Z"
    }
   },
   "outputs": [],
   "source": [
    "len(users)"
   ]
  },
  {
   "cell_type": "code",
   "execution_count": null,
   "id": "0c12e542-5eda-4377-8586-32caa96966c4",
   "metadata": {
    "scrolled": true,
    "ExecuteTime": {
     "start_time": "2023-07-13T19:48:38.884952Z"
    }
   },
   "outputs": [],
   "source": [
    "items = pd.read_csv('%s_tracks.tsv' % prefixed_path, sep='\\t', skiprows=[0], names=['item_id:token', 'artist:token', 'track:token'])\n",
    "items.to_csv('data/rb_lfm/rb_lfm.item', sep='\\t', index=False)\n",
    "                    \n",
    "track_ids = pd.DataFrame(items['item_id:token'])\n",
    "track_ids['entity_id:token'] = 't' + track_ids['item_id:token'].astype(str)\n",
    "track_ids.to_csv('data/rb_lfm/rb_lfm.link', sep='\\t', index=False)"
   ]
  },
  {
   "cell_type": "code",
   "execution_count": null,
   "id": "9c21c349-797f-48dc-83dc-84998067889a",
   "metadata": {
    "ExecuteTime": {
     "start_time": "2023-07-13T19:48:38.885471Z"
    }
   },
   "outputs": [],
   "source": [
    "listening_events = pd.read_csv('%s_listening_events.tsv' % prefixed_path, sep='\\t', skiprows=[0], names=['user_id:token', 'item_id:token', 'album_id:token', 'timestamp:token'])\n",
    "listening_events.to_csv('data/rb_lfm/rb_lfm.inter', sep='\\t', index=False)"
   ]
  }
 ],
 "metadata": {
  "kernelspec": {
   "display_name": "Python 3 (ipykernel)",
   "language": "python",
   "name": "python3"
  },
  "language_info": {
   "codemirror_mode": {
    "name": "ipython",
    "version": 3
   },
   "file_extension": ".py",
   "mimetype": "text/x-python",
   "name": "python",
   "nbconvert_exporter": "python",
   "pygments_lexer": "ipython3",
   "version": "3.11.4"
  }
 },
 "nbformat": 4,
 "nbformat_minor": 5
}
