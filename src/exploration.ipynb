{
 "cells": [
  {
   "cell_type": "markdown",
   "source": [
    "# Model evaluation"
   ],
   "metadata": {
    "collapsed": false
   }
  },
  {
   "cell_type": "code",
   "execution_count": 3,
   "outputs": [
    {
     "name": "stdout",
     "output_type": "stream",
     "text": [
      "/home/jfallmann/userdata/Bachelor Thesis/bachelor-thesis/src/models/PGPR\n"
     ]
    }
   ],
   "source": [
    "%cd models/PGPR"
   ],
   "metadata": {
    "collapsed": false,
    "ExecuteTime": {
     "end_time": "2023-07-18T18:48:46.874906998Z",
     "start_time": "2023-07-18T18:48:46.817209614Z"
    }
   }
  },
  {
   "cell_type": "code",
   "execution_count": 4,
   "outputs": [],
   "source": [
    "import torch\n",
    "from train_agent import ActorCritic, BatchKGEnvironment"
   ],
   "metadata": {
    "collapsed": false,
    "ExecuteTime": {
     "end_time": "2023-07-18T18:48:47.836555367Z",
     "start_time": "2023-07-18T18:48:47.831906746Z"
    }
   }
  },
  {
   "cell_type": "code",
   "execution_count": 7,
   "outputs": [
    {
     "name": "stdout",
     "output_type": "stream",
     "text": [
      "Load embedding: ../../data/lfm/preprocessed/pgpr/tmp/transe_embed.pkl\n"
     ]
    },
    {
     "data": {
      "text/plain": "<All keys matched successfully>"
     },
     "execution_count": 7,
     "metadata": {},
     "output_type": "execute_result"
    }
   ],
   "source": [
    "env = BatchKGEnvironment('lfm', 250, max_path_len=3,\n",
    "                             state_history=1)\n",
    "device = torch.device('cuda:0') if torch.cuda.is_available() else 'cpu'\n",
    "pretrain_sd = torch.load('../../data/lfm/preprocessed/pgpr/tmp/train_agent/policy_model_epoch_50.ckpt')\n",
    "model = ActorCritic(env.state_dim, env.act_dim, gamma=0.99, hidden_sizes=[512, 256]).to(device)\n",
    "model_sd = model.state_dict()\n",
    "model_sd.update(pretrain_sd)\n",
    "model.load_state_dict(model_sd)"
   ],
   "metadata": {
    "collapsed": false,
    "ExecuteTime": {
     "end_time": "2023-07-18T18:50:31.156134254Z",
     "start_time": "2023-07-18T18:50:28.109500199Z"
    }
   }
  },
  {
   "cell_type": "code",
   "execution_count": 12,
   "outputs": [
    {
     "data": {
      "text/plain": "401404"
     },
     "execution_count": 12,
     "metadata": {},
     "output_type": "execute_result"
    }
   ],
   "source": [
    "sum(p.numel() for p in model.parameters() if p.requires_grad)"
   ],
   "metadata": {
    "collapsed": false,
    "ExecuteTime": {
     "end_time": "2023-07-18T18:51:36.329845523Z",
     "start_time": "2023-07-18T18:51:36.328439272Z"
    }
   }
  },
  {
   "cell_type": "code",
   "execution_count": 14,
   "outputs": [
    {
     "name": "stdout",
     "output_type": "stream",
     "text": [
      "/home/jfallmann/userdata/Bachelor Thesis/bachelor-thesis/src/models/CAFE\n"
     ]
    }
   ],
   "source": [
    "%cd ../CAFE"
   ],
   "metadata": {
    "collapsed": false,
    "ExecuteTime": {
     "end_time": "2023-07-18T19:10:34.190040352Z",
     "start_time": "2023-07-18T19:10:34.187916938Z"
    }
   }
  },
  {
   "cell_type": "code",
   "execution_count": 39,
   "outputs": [],
   "source": [
    "from cafe_utils import *\n",
    "from data_utils import KGMask\n",
    "from symbolic_model import EntityEmbeddingModel, SymbolicNetwork"
   ],
   "metadata": {
    "collapsed": false,
    "ExecuteTime": {
     "end_time": "2023-07-18T19:20:10.499210370Z",
     "start_time": "2023-07-18T19:20:10.453630014Z"
    }
   }
  },
  {
   "cell_type": "code",
   "execution_count": 40,
   "outputs": [
    {
     "data": {
      "text/plain": "SymbolicNetwork(\n  (embedding): EntityEmbeddingModel(\n    (user): Embedding(9456, 100, padding_idx=9455)\n    (product): Embedding(173789, 100, padding_idx=173788)\n    (genre): Embedding(750, 100, padding_idx=749)\n    (album): Embedding(45979, 100, padding_idx=45978)\n    (micro_genre): Embedding(1922, 100, padding_idx=1921)\n    (artist): Embedding(14988, 100, padding_idx=14987)\n  )\n  (listened): DeepRelationModule(\n    (fc1): Linear(in_features=200, out_features=256, bias=True)\n    (bn1): BatchNorm1d(256, eps=1e-05, momentum=0.1, affine=True, track_running_stats=True)\n    (fc2): Linear(in_features=256, out_features=200, bias=True)\n    (bn2): BatchNorm1d(200, eps=1e-05, momentum=0.1, affine=True, track_running_stats=True)\n    (fc3): Linear(in_features=200, out_features=100, bias=True)\n    (dropout): Dropout(p=0.5, inplace=False)\n  )\n  (rev_listened): DeepRelationModule(\n    (fc1): Linear(in_features=200, out_features=256, bias=True)\n    (bn1): BatchNorm1d(256, eps=1e-05, momentum=0.1, affine=True, track_running_stats=True)\n    (fc2): Linear(in_features=256, out_features=200, bias=True)\n    (bn2): BatchNorm1d(200, eps=1e-05, momentum=0.1, affine=True, track_running_stats=True)\n    (fc3): Linear(in_features=200, out_features=100, bias=True)\n    (dropout): Dropout(p=0.5, inplace=False)\n  )\n  (has_genre): DeepRelationModule(\n    (fc1): Linear(in_features=200, out_features=256, bias=True)\n    (bn1): BatchNorm1d(256, eps=1e-05, momentum=0.1, affine=True, track_running_stats=True)\n    (fc2): Linear(in_features=256, out_features=200, bias=True)\n    (bn2): BatchNorm1d(200, eps=1e-05, momentum=0.1, affine=True, track_running_stats=True)\n    (fc3): Linear(in_features=200, out_features=100, bias=True)\n    (dropout): Dropout(p=0.5, inplace=False)\n  )\n  (rev_has_genre): DeepRelationModule(\n    (fc1): Linear(in_features=200, out_features=256, bias=True)\n    (bn1): BatchNorm1d(256, eps=1e-05, momentum=0.1, affine=True, track_running_stats=True)\n    (fc2): Linear(in_features=256, out_features=200, bias=True)\n    (bn2): BatchNorm1d(200, eps=1e-05, momentum=0.1, affine=True, track_running_stats=True)\n    (fc3): Linear(in_features=200, out_features=100, bias=True)\n    (dropout): Dropout(p=0.5, inplace=False)\n  )\n  (in_album): DeepRelationModule(\n    (fc1): Linear(in_features=200, out_features=256, bias=True)\n    (bn1): BatchNorm1d(256, eps=1e-05, momentum=0.1, affine=True, track_running_stats=True)\n    (fc2): Linear(in_features=256, out_features=200, bias=True)\n    (bn2): BatchNorm1d(200, eps=1e-05, momentum=0.1, affine=True, track_running_stats=True)\n    (fc3): Linear(in_features=200, out_features=100, bias=True)\n    (dropout): Dropout(p=0.5, inplace=False)\n  )\n  (rev_in_album): DeepRelationModule(\n    (fc1): Linear(in_features=200, out_features=256, bias=True)\n    (bn1): BatchNorm1d(256, eps=1e-05, momentum=0.1, affine=True, track_running_stats=True)\n    (fc2): Linear(in_features=256, out_features=200, bias=True)\n    (bn2): BatchNorm1d(200, eps=1e-05, momentum=0.1, affine=True, track_running_stats=True)\n    (fc3): Linear(in_features=200, out_features=100, bias=True)\n    (dropout): Dropout(p=0.5, inplace=False)\n  )\n  (has_micro_genre): DeepRelationModule(\n    (fc1): Linear(in_features=200, out_features=256, bias=True)\n    (bn1): BatchNorm1d(256, eps=1e-05, momentum=0.1, affine=True, track_running_stats=True)\n    (fc2): Linear(in_features=256, out_features=200, bias=True)\n    (bn2): BatchNorm1d(200, eps=1e-05, momentum=0.1, affine=True, track_running_stats=True)\n    (fc3): Linear(in_features=200, out_features=100, bias=True)\n    (dropout): Dropout(p=0.5, inplace=False)\n  )\n  (rev_has_micro_genre): DeepRelationModule(\n    (fc1): Linear(in_features=200, out_features=256, bias=True)\n    (bn1): BatchNorm1d(256, eps=1e-05, momentum=0.1, affine=True, track_running_stats=True)\n    (fc2): Linear(in_features=256, out_features=200, bias=True)\n    (bn2): BatchNorm1d(200, eps=1e-05, momentum=0.1, affine=True, track_running_stats=True)\n    (fc3): Linear(in_features=200, out_features=100, bias=True)\n    (dropout): Dropout(p=0.5, inplace=False)\n  )\n  (created_by): DeepRelationModule(\n    (fc1): Linear(in_features=200, out_features=256, bias=True)\n    (bn1): BatchNorm1d(256, eps=1e-05, momentum=0.1, affine=True, track_running_stats=True)\n    (fc2): Linear(in_features=256, out_features=200, bias=True)\n    (bn2): BatchNorm1d(200, eps=1e-05, momentum=0.1, affine=True, track_running_stats=True)\n    (fc3): Linear(in_features=200, out_features=100, bias=True)\n    (dropout): Dropout(p=0.5, inplace=False)\n  )\n  (rev_created_by): DeepRelationModule(\n    (fc1): Linear(in_features=200, out_features=256, bias=True)\n    (bn1): BatchNorm1d(256, eps=1e-05, momentum=0.1, affine=True, track_running_stats=True)\n    (fc2): Linear(in_features=256, out_features=200, bias=True)\n    (bn2): BatchNorm1d(200, eps=1e-05, momentum=0.1, affine=True, track_running_stats=True)\n    (fc3): Linear(in_features=200, out_features=100, bias=True)\n    (dropout): Dropout(p=0.5, inplace=False)\n  )\n  (nll_criterion): NLLLoss()\n  (ce_loss): CrossEntropyLoss()\n)"
     },
     "execution_count": 40,
     "metadata": {},
     "output_type": "execute_result"
    }
   ],
   "source": [
    "kg = load_kg(\"lfm\")\n",
    "kg_mask = KGMask(kg)\n",
    "entity_info, relation_info = {}, {}\n",
    "for entity in kg.G:\n",
    "    entity_info[entity] = {\"vocab_size\": len(kg.G[entity])}\n",
    "for rel in kg.relation_info:\n",
    "    relation_info[rel] = {\n",
    "       \"name\": rel,\n",
    "        \"entity_head\": kg.relation_info[rel][0],\n",
    "        \"entity_tail\": kg.relation_info[rel][1],\n",
    "    }\n",
    "\n",
    "# pretrain_embeds = utils.load_embed(args.dataset) if train else None\n",
    "entity_embed_model = EntityEmbeddingModel(entity_info, 100, init_embed=None)\n",
    "model = SymbolicNetwork(relation_info, entity_embed_model, True,True,device)\n",
    "model = model.to(device)\n",
    "\n",
    "pretrain_sd = torch.load(\"../../data/lfm/preprocessed/cafe/tmp/neural_symbolic_model/symbolic_model_epoch19.ckpt\", map_location=lambda storage, loc: storage)\n",
    "model_sd = model.state_dict()\n",
    "model_sd.update(pretrain_sd)\n",
    "model.load_state_dict(model_sd)\n",
    "model.eval()\n",
    "\n"
   ],
   "metadata": {
    "collapsed": false,
    "ExecuteTime": {
     "end_time": "2023-07-18T19:20:13.362061921Z",
     "start_time": "2023-07-18T19:20:11.758384182Z"
    }
   }
  },
  {
   "cell_type": "code",
   "execution_count": 41,
   "outputs": [
    {
     "data": {
      "text/plain": "25927080"
     },
     "execution_count": 41,
     "metadata": {},
     "output_type": "execute_result"
    }
   ],
   "source": [
    "sum(p.numel() for p in model.parameters() if p.requires_grad)\n"
   ],
   "metadata": {
    "collapsed": false,
    "ExecuteTime": {
     "end_time": "2023-07-18T19:20:26.308374953Z",
     "start_time": "2023-07-18T19:20:26.303257265Z"
    }
   }
  },
  {
   "cell_type": "markdown",
   "source": [
    "# Path Evaluation"
   ],
   "metadata": {
    "collapsed": false
   }
  },
  {
   "cell_type": "code",
   "execution_count": null,
   "outputs": [],
   "source": [],
   "metadata": {
    "collapsed": false
   }
  }
 ],
 "metadata": {
  "kernelspec": {
   "display_name": "Python 3 (ipykernel)",
   "language": "python",
   "name": "python3"
  },
  "language_info": {
   "codemirror_mode": {
    "name": "ipython",
    "version": 3
   },
   "file_extension": ".py",
   "mimetype": "text/x-python",
   "name": "python",
   "nbconvert_exporter": "python",
   "pygments_lexer": "ipython3",
   "version": "3.11.3"
  }
 },
 "nbformat": 4,
 "nbformat_minor": 5
}
